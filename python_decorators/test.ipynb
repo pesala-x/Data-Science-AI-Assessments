{
 "cells": [
  {
   "cell_type": "code",
   "execution_count": null,
   "metadata": {},
   "outputs": [
    {
     "name": "stdout",
     "output_type": "stream",
     "text": [
      "12\n"
     ]
    }
   ],
   "source": [
    "# Nested Functions\n",
    "def outer (x):\n",
    "    def inner (y):\n",
    "        return x+y \n",
    "    return inner\n",
    "\n",
    "temp = outer(5)\n",
    "print(temp(7))\n",
    "    "
   ]
  },
  {
   "cell_type": "code",
   "execution_count": null,
   "metadata": {},
   "outputs": [
    {
     "name": "stdout",
     "output_type": "stream",
     "text": [
      "16\n"
     ]
    }
   ],
   "source": [
    "# python pass function \n",
    "\n",
    "def add (x,y):\n",
    "    return x+y\n",
    "\n",
    "def calculate (func, x,y):\n",
    "    return func(x,y)\n",
    "\n",
    "result = calculate(add,9,7)\n",
    "print(result)"
   ]
  },
  {
   "cell_type": "code",
   "execution_count": null,
   "metadata": {},
   "outputs": [
    {
     "name": "stdout",
     "output_type": "stream",
     "text": [
      "I got decorated\n",
      "I'm Ordinary\n"
     ]
    }
   ],
   "source": [
    "#  python decorator \n",
    "def make_pretty (func):\n",
    "    def inner ():\n",
    "        print(\"I got decorated\")\n",
    "        func()\n",
    "    return inner\n",
    "\n",
    "def ordinary ():\n",
    "    print(\"I'm Ordinary\")\n",
    "\n",
    "decorate_func = make_pretty(ordinary)\n",
    "decorate_func()"
   ]
  },
  {
   "cell_type": "code",
   "execution_count": null,
   "metadata": {},
   "outputs": [
    {
     "name": "stdout",
     "output_type": "stream",
     "text": [
      "I got decorated\n",
      "I'm Ordinary\n"
     ]
    }
   ],
   "source": [
    "#  python decorator usinf symbol \n",
    "def make_pretty(func):\n",
    "    def inner():\n",
    "        print(\"I got decorated\")\n",
    "        func()\n",
    "    return inner\n",
    "\n",
    "@make_pretty\n",
    "def ordinary():\n",
    "    print(\"I'm Ordinary\")\n",
    "\n",
    "ordinary()"
   ]
  },
  {
   "cell_type": "code",
   "execution_count": 15,
   "metadata": {},
   "outputs": [
    {
     "name": "stdout",
     "output_type": "stream",
     "text": [
      "Square root: 5.0\n",
      "Input must be a positive\n",
      "Input must be a number\n"
     ]
    }
   ],
   "source": [
    "import math\n",
    "\n",
    "def check_positive(func):\n",
    "    def inner(number):\n",
    "        if not isinstance(number, (int, float)):  # Check if the input is a number\n",
    "            print(\"Input must be a number\")\n",
    "            return None\n",
    "        if number <= 0:  # Check if the input is positive\n",
    "            print(\"Input must be a positive\")\n",
    "            return None\n",
    "        return func(number)  # Call the original function if valid\n",
    "    return inner\n",
    "\n",
    "@check_positive\n",
    "def calculate_square_root(number):\n",
    "    return math.sqrt(number)\n",
    "\n",
    "# Example Usage\n",
    "result = calculate_square_root(25)  # Valid input\n",
    "if result is not None:\n",
    "    print(f\"Square root: {result}\")\n",
    "\n",
    "calculate_square_root(-5)  # Invalid input (negative)\n",
    "calculate_square_root(\"abc\")  # Invalid input (not a number)\n"
   ]
  }
 ],
 "metadata": {
  "kernelspec": {
   "display_name": "Python 3",
   "language": "python",
   "name": "python3"
  },
  "language_info": {
   "codemirror_mode": {
    "name": "ipython",
    "version": 3
   },
   "file_extension": ".py",
   "mimetype": "text/x-python",
   "name": "python",
   "nbconvert_exporter": "python",
   "pygments_lexer": "ipython3",
   "version": "3.13.0"
  }
 },
 "nbformat": 4,
 "nbformat_minor": 2
}
