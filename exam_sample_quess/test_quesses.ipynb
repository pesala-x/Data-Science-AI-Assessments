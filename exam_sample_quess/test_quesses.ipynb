{
 "cells": [
  {
   "cell_type": "code",
   "execution_count": 1,
   "metadata": {},
   "outputs": [
    {
     "name": "stdout",
     "output_type": "stream",
     "text": [
      "The volume of the sphere with radius 5 is 523.5987755982989\n"
     ]
    }
   ],
   "source": [
    "# Q1 \n",
    "import math  # Import the math module to use the value of pi\n",
    "\n",
    "def calculate_sphere_volume(radius):\n",
    "    # Calculate the volume of a sphere using the formula\n",
    "    volume = (4 / 3) * math.pi * (radius ** 3)\n",
    "    return volume  # Return the calculated volume\n",
    "\n",
    "# Test the function with a radius of 5\n",
    "radius = 5\n",
    "result = calculate_sphere_volume(radius)\n",
    "print(\"The volume of the sphere with radius\", radius, \"is\", result)\n"
   ]
  },
  {
   "cell_type": "code",
   "execution_count": 2,
   "metadata": {},
   "outputs": [
    {
     "name": "stdout",
     "output_type": "stream",
     "text": [
      "The sum of squares from 1 to 5 is 55\n"
     ]
    }
   ],
   "source": [
    "# Q2\n",
    "def sum_of_squares(n):\n",
    "    # Initialize a variable to store the sum\n",
    "    total = 0\n",
    "    \n",
    "    # Use a loop to calculate the sum of squares\n",
    "    for i in range(1, n + 1):\n",
    "        total += i ** 2  # Add the square of the current number to the total\n",
    "    \n",
    "    return total  # Return the calculated sum\n",
    "\n",
    "# Test the function with n = 5\n",
    "n = 5\n",
    "result = sum_of_squares(n)\n",
    "print(\"The sum of squares from 1 to\", n, \"is\", result)\n"
   ]
  },
  {
   "cell_type": "code",
   "execution_count": null,
   "metadata": {},
   "outputs": [
    {
     "name": "stdout",
     "output_type": "stream",
     "text": [
      "{'keys': ['a', 'b', 'c'], 'result': 30}\n",
      "{'keys': ['x', 'y'], 'result': 12}\n"
     ]
    }
   ],
   "source": [
    "# Q3\n",
    "def calculate(operation, **kwargs):\n",
    "    # Extract the keys from kwargs\n",
    "    keys = list(kwargs.keys()) # [a,b]\n",
    "    \n",
    "    # Extract the values from kwargs\n",
    "    values = list(kwargs.values()) # [5,10,15]\n",
    "    \n",
    "    result = 0\n",
    "    # Perform the specified operation\n",
    "    if operation == \"sum\":\n",
    "        result = sum(values)  # Calculate the sum of the values\n",
    "    elif operation == \"product\":\n",
    "        result = 1\n",
    "        for value in values:\n",
    "            result *= value  # Calculate the product of the values\n",
    "    else:\n",
    "        raise ValueError(\"Invalid operation. Use 'sum' or 'product'.\")\n",
    "    \n",
    "    # Return the result as a dictionary\n",
    "    return {\"keys\": keys, \"result\": result}\n",
    "\n",
    "# Example usage\n",
    "print(calculate(operation=\"sum\", a=5, b=10, c=15))  # Should return {\"keys\": [\"a\", \"b\", \"c\"], \"result\": 30}\n",
    "print(calculate(operation=\"product\", x=3, y=4))    # Should return {\"keys\": [\"x\", \"y\"], \"result\": 12}"
   ]
  },
  {
   "cell_type": "code",
   "execution_count": null,
   "metadata": {},
   "outputs": [
    {
     "name": "stdout",
     "output_type": "stream",
     "text": [
      "The sum of the digits of 9876 is 30.\n"
     ]
    }
   ],
   "source": [
    "# Q4\n",
    "def sum_of_digits(n):\n",
    "    \"\"\"\n",
    "    Calculate the sum of all digits of a positive integer using recursion.\n",
    "    :param n: A positive integer\n",
    "    :return: Sum of its digits\n",
    "    \"\"\"\n",
    "    if n == 0:\n",
    "        return 0  # Base case: If the number is 0, return 0\n",
    "    else:\n",
    "        return (n % 10) + sum_of_digits(n // 10)  # Recursive case\n",
    "\n",
    "# Test the function with the input 9876\n",
    "test_number = 9876\n",
    "result = sum_of_digits(test_number)\n",
    "print(f\"The sum of the digits of {test_number} is {result}.\")\n"
   ]
  },
  {
   "cell_type": "code",
   "execution_count": 2,
   "metadata": {},
   "outputs": [
    {
     "name": "stdout",
     "output_type": "stream",
     "text": [
      "Account Holder: Jone\n",
      "current balance: 0\n",
      "Amount: 500\n",
      "current balance: 500\n",
      "withdrow: 200\n",
      "current balance: 300\n",
      "account does not have suffision amount!\n",
      "current balance: 300\n"
     ]
    }
   ],
   "source": [
    "# task 01\n",
    "class BannkAccount:\n",
    "    account_holder=\"store the account holder\"\n",
    "\n",
    "    def __init__(self, account_holder):\n",
    "        self.account_holder = account_holder\n",
    "        self.balance = 0\n",
    "\n",
    "    def deposit(self,amount):\n",
    "         if amount>=0:\n",
    "             self.balance += amount\n",
    "             print(\"Amount:\",amount) \n",
    "         else:\n",
    "            print(\"Invelide Amount!!\")\n",
    "         \n",
    "    def withdraw(self,amount):\n",
    "         if amount <=0:\n",
    "             print(\"Invalide withdrow amount\")\n",
    "         elif amount>self.balance:\n",
    "             print(\"account does not have suffision amount!\")\n",
    "         else:\n",
    "             self.balance -= amount\n",
    "             print(\"withdrow:\",amount)\n",
    "    def display_balance(self):\n",
    "             print(\"current balance:\",self.balance)\n",
    "\n",
    "account = BannkAccount(\"Jone\")\n",
    "\n",
    "print(f\"Account Holder: {account.account_holder}\")\n",
    "account.display_balance() \n",
    "\n",
    "\n",
    "account.deposit(500)\n",
    "account.display_balance() \n",
    "\n",
    "\n",
    "account.withdraw(200)\n",
    "account.display_balance()  \n",
    "\n",
    "account.withdraw(400)\n",
    "account.display_balance()"
   ]
  }
 ],
 "metadata": {
  "kernelspec": {
   "display_name": "Python 3",
   "language": "python",
   "name": "python3"
  },
  "language_info": {
   "codemirror_mode": {
    "name": "ipython",
    "version": 3
   },
   "file_extension": ".py",
   "mimetype": "text/x-python",
   "name": "python",
   "nbconvert_exporter": "python",
   "pygments_lexer": "ipython3",
   "version": "3.13.0"
  }
 },
 "nbformat": 4,
 "nbformat_minor": 2
}
