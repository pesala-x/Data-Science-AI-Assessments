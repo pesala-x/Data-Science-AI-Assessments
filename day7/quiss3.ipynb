{
 "cells": [
  {
   "cell_type": "code",
   "execution_count": 22,
   "metadata": {},
   "outputs": [
    {
     "name": "stdout",
     "output_type": "stream",
     "text": [
      "Q1)\n",
      "         Product    Category  QTY  Price_per_unit\n",
      "101      Laptop  Electornic    2            1000\n",
      "102  Smartphone  Electornic    5             800\n",
      "103   DeskChair   Furniture   10              50\n",
      "104     Monitor  Electronic    4             200\n",
      "105   Bookshelf   Furniture    2             300\n",
      "\n",
      "Q2)\n",
      "         Product    Category  QTY  Price_per_unit  total_revenue\n",
      "101      Laptop  Electornic    2            1000           2000\n",
      "102  Smartphone  Electornic    5             800           4000\n",
      "103   DeskChair   Furniture   10              50            500\n",
      "104     Monitor  Electronic    4             200            800\n",
      "105   Bookshelf   Furniture    2             300            600\n",
      "\n",
      "Best-selling product:\n",
      " Product           Smartphone\n",
      "Category          Electornic\n",
      "QTY                        5\n",
      "Price_per_unit           800\n",
      "total_revenue           4000\n",
      "Name: 102, dtype: object\n"
     ]
    }
   ],
   "source": [
    "import pandas as pd \n",
    "\n",
    "data = {\n",
    "    # 'Order_ID' : [101, 102, 103, 104, 105],\n",
    "    'Product' : [\"Laptop\", 'Smartphone', 'DeskChair', 'Monitor', 'Bookshelf'],\n",
    "    'Category' : ['Electornic','Electornic', 'Furniture', 'Electronic', 'Furniture'],\n",
    "    'QTY' : [2, 5, 10, 4, 2],\n",
    "    'Price_per_unit' : [1000, 800, 50, 200, 300],\n",
    "}\n",
    "\n",
    "\n",
    "df = pd.DataFrame(data, index=[101, 102, 103, 104, 105])\n",
    "\n",
    "print(\"Q1)\\n\",df)\n",
    "\n",
    "\n",
    "df['total_revenue'] = df['QTY'] * df['Price_per_unit']\n",
    "print(\"\\nQ2)\\n\",df)\n",
    "\n",
    "best_selling_index = df['total_revenue'].idxmax()  \n",
    "best_selling_product = df.loc[best_selling_index]\n",
    "print(\"\\nBest-selling product:\\n\", best_selling_product)\n",
    "\n",
    "\n",
    "# best_selling_index = df['total_revenue'] == df['total_revenue'].max()\n",
    "# print(best_selling_index)"
   ]
  }
 ],
 "metadata": {
  "kernelspec": {
   "display_name": "Python 3",
   "language": "python",
   "name": "python3"
  },
  "language_info": {
   "codemirror_mode": {
    "name": "ipython",
    "version": 3
   },
   "file_extension": ".py",
   "mimetype": "text/x-python",
   "name": "python",
   "nbconvert_exporter": "python",
   "pygments_lexer": "ipython3",
   "version": "3.13.0"
  },
  "orig_nbformat": 4
 },
 "nbformat": 4,
 "nbformat_minor": 2
}
