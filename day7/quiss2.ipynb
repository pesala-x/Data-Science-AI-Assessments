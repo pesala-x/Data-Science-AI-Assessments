{
 "cells": [
  {
   "cell_type": "code",
   "execution_count": 6,
   "metadata": {},
   "outputs": [
    {
     "name": "stdout",
     "output_type": "stream",
     "text": [
      "This is 3D Array filtering process check: \n",
      " \n",
      " [False  True False  True False  True False  True False  True  True]\n",
      "[ 2  4  6  8 10 20]\n"
     ]
    }
   ],
   "source": [
    "import numpy as np\n",
    "\n",
    "arr = np.array([1,2,3,4,5,6,7,8,9,10,20])\n",
    "\n",
    "condition = 0 == arr%2  \n",
    "print(\"This is 3D Array filtering process check: \\n \\n\",condition)\n",
    "\n",
    "result_array = arr[condition]# array filter process\n",
    "\n",
    "print(result_array) \n"
   ]
  },
  {
   "cell_type": "code",
   "execution_count": 10,
   "metadata": {},
   "outputs": [
    {
     "name": "stdout",
     "output_type": "stream",
     "text": [
      "This is the condition for filtering the 3D array:\n",
      " [False False False  True  True]\n",
      "Filtered array elements greater than the mean: [40 50]\n"
     ]
    }
   ],
   "source": [
    "import numpy as np\n",
    "\n",
    "arr = np.array([10, 20, 30, 40, 50])\n",
    "\n",
    "# mean_value = np.mean(arr)\n",
    "condition = arr > (np.mean(arr))\n",
    "print(\"This is the condition for filtering the 3D array:\\n\", condition)\n",
    "\n",
    "result_array = arr[condition]\n",
    "print(\"Filtered array elements greater than the mean:\", result_array)\n"
   ]
  }
 ],
 "metadata": {
  "kernelspec": {
   "display_name": "Python 3",
   "language": "python",
   "name": "python3"
  },
  "language_info": {
   "codemirror_mode": {
    "name": "ipython",
    "version": 3
   },
   "file_extension": ".py",
   "mimetype": "text/x-python",
   "name": "python",
   "nbconvert_exporter": "python",
   "pygments_lexer": "ipython3",
   "version": "3.13.0"
  },
  "orig_nbformat": 4
 },
 "nbformat": 4,
 "nbformat_minor": 2
}
