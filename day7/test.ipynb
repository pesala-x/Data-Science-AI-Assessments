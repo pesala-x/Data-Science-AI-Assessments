{
 "cells": [
  {
   "cell_type": "code",
   "execution_count": 2,
   "metadata": {},
   "outputs": [
    {
     "name": "stdout",
     "output_type": "stream",
     "text": [
      "[11 19 21  5]\n",
      "[ 1  1  1 -3]\n",
      "[1.2        1.11111111 1.1        0.25      ]\n",
      "[11 19 21  5]\n",
      "[ 36 100 121   1]\n"
     ]
    }
   ],
   "source": [
    "import numpy as np\n",
    "\n",
    "array_1 = np.array([6,10,11,1])\n",
    "\n",
    "array_2 = np.array([5,9,10,4])\n",
    "\n",
    "sum_array = array_1 + array_2\n",
    "print(sum_array)\n",
    "\n",
    "substract_array = array_1 - array_2\n",
    "print(substract_array)\n",
    "\n",
    "multiply_array = array_1 / array_2\n",
    "print(multiply_array)\n",
    "\n",
    "devide_array = array_1 + array_2\n",
    "print(devide_array)\n",
    "\n",
    "square_array = array_1 ** 2\n",
    "print(square_array)\n"
   ]
  },
  {
   "cell_type": "code",
   "execution_count": 12,
   "metadata": {},
   "outputs": [
    {
     "name": "stdout",
     "output_type": "stream",
     "text": [
      "square : [5.         8.24621125 2.        ]\n",
      "Sum : 97\n",
      "average : 32.333333333333336\n",
      "min : 4\n",
      "max : 68\n"
     ]
    }
   ],
   "source": [
    "import numpy as np\n",
    "\n",
    "array_1 = np.array([25,68,4])\n",
    "\n",
    "result_sqrt = np.sqrt(array_1)\n",
    "print(\"square :\",result_sqrt)\n",
    "\n",
    "result_sqrt = np.sum(array_1)\n",
    "print(\"Sum :\",result_sqrt)\n",
    "\n",
    "result_sqrt = np.average(array_1)\n",
    "print(\"average :\", result_sqrt)\n",
    "\n",
    "result_sqrt = np.min(array_1)\n",
    "print(\"min :\",result_sqrt)\n",
    "\n",
    "result_sqrt = np.max(array_1)\n",
    "print(\"max :\",result_sqrt)\n"
   ]
  },
  {
   "cell_type": "code",
   "execution_count": 20,
   "metadata": {},
   "outputs": [
    {
     "name": "stdout",
     "output_type": "stream",
     "text": [
      "[[1, 2, 3], [4, 5, 6], [7, 8, 9]] This is 2D Array but <class 'numpy.ndarray'> \n",
      "\n",
      "[[1 2 3]\n",
      " [4 5 6]\n",
      " [7 8 9]] This is 2D Array <class 'numpy.ndarray'>\n"
     ]
    }
   ],
   "source": [
    "import numpy as np\n",
    "\n",
    "array_0 = ([[1,2,3], [4,5,6], [7,8,9]])\n",
    "\n",
    "array_1 = np.array([[1,2,3], [4,5,6], [7,8,9]])\n",
    "\n",
    "print(array_0,\"This is 2D Array but\", type(array_1),'\\n')\n",
    "print(array_1,\"This is 2D Array\", type(array_1))\n",
    "\n"
   ]
  },
  {
   "cell_type": "code",
   "execution_count": 42,
   "metadata": {},
   "outputs": [
    {
     "name": "stdout",
     "output_type": "stream",
     "text": [
      "This is 3D Array [[[ 1  2  3]\n",
      "  [ 4  5  6]]\n",
      "\n",
      " [[ 7  8  9]\n",
      "  [10 11 12]]]\n",
      "\n",
      "Array shape in Array 1 2D: (2, 3)\n",
      "Array shape Array 1 3D: (2, 2, 3)\n",
      "\n",
      "Array size in Array 1 2D: 6\n",
      "Array size Array 1 3D: 12\n",
      "\n",
      "Get Dimention in Array 1 2D: 2\n",
      "Get Dimention Array 1 3D: 3\n",
      "\n",
      "Get character Data Type in Array 1 2D: int64\n",
      "Get character Data Type in Array 1 3D: int64\n",
      "\n",
      "Access values in Array 1 2D: 5\n",
      "Access values in Array 3D: 12\n"
     ]
    }
   ],
   "source": [
    "import numpy as np\n",
    "\n",
    "array_1 = np.array([[1,2,3], [4,5,6]])\n",
    "\n",
    "array_2 = np.array([[[1,2,3], [4,5,6]], [[7,8,9],[10,11,12]]])\n",
    "\n",
    "print(\"This is 3D Array\",array_2)\n",
    "\n",
    "print(\"\\nArray shape in Array 1 2D:\",array_1.shape)\n",
    "print(\"Array shape Array 1 3D:\",array_2.shape)\n",
    "\n",
    "print(\"\\nArray size in Array 1 2D:\",array_1.size)\n",
    "print(\"Array size Array 1 3D:\",array_2.size)\n",
    "\n",
    "print(\"\\nGet Dimention in Array 1 2D:\",array_1.ndim)\n",
    "print(\"Get Dimention Array 1 3D:\",array_2.ndim)\n",
    "\n",
    "print(\"\\nGet character Data Type in Array 1 2D:\",array_1.dtype)\n",
    "print(\"Get character Data Type in Array 1 3D:\",array_2.dtype)\n",
    "\n",
    "\n",
    "print(\"\\nAccess values in Array 1 2D:\",array_1[1,1])# get 5 vlue\n",
    "print(\"Access values in Array 3D:\",array_2[1,1,2])# get 12 vlue "
   ]
  },
  {
   "cell_type": "code",
   "execution_count": null,
   "metadata": {},
   "outputs": [],
   "source": []
  }
 ],
 "metadata": {
  "kernelspec": {
   "display_name": "Python 3",
   "language": "python",
   "name": "python3"
  },
  "language_info": {
   "codemirror_mode": {
    "name": "ipython",
    "version": 3
   },
   "file_extension": ".py",
   "mimetype": "text/x-python",
   "name": "python",
   "nbconvert_exporter": "python",
   "pygments_lexer": "ipython3",
   "version": "3.13.0"
  },
  "orig_nbformat": 4
 },
 "nbformat": 4,
 "nbformat_minor": 2
}
