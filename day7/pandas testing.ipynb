{
 "cells": [
  {
   "cell_type": "code",
   "execution_count": 3,
   "metadata": {},
   "outputs": [
    {
     "name": "stdout",
     "output_type": "stream",
     "text": [
      "     Name  Age\n",
      "0   aloce   25\n",
      "1    bobs   35\n",
      "2  charli   91\n",
      "3   david   54\n",
      "<class 'pandas.core.frame.DataFrame'>\n"
     ]
    }
   ],
   "source": [
    "import pandas as pd \n",
    "\n",
    "data = {\n",
    "    'Name' : ['aloce', 'bobs', 'charli', 'david'],\n",
    "    'Age' : [25, 35, 91, 54]\n",
    "}\n",
    "\n",
    "df = pd.DataFrame(data)\n",
    "\n",
    "print(df)\n",
    "print(type(df))"
   ]
  },
  {
   "cell_type": "code",
   "execution_count": 27,
   "metadata": {},
   "outputs": [
    {
     "name": "stdout",
     "output_type": "stream",
     "text": [
      "     Name  Age\n",
      "0   aliss   25\n",
      "1     bob   35\n",
      "2  charli   91\n",
      "3   david   54\n",
      "\n",
      " bob\n",
      "\n",
      " bob\n",
      "\n",
      " Name    charli\n",
      "Age         91\n",
      "Name: 2, dtype: object\n",
      "\n",
      "     Name  Age\n",
      "0  aliss   25\n",
      "3  david   54\n"
     ]
    }
   ],
   "source": [
    "import pandas as pd \n",
    "\n",
    "data = {\n",
    "    'Name' : ['aliss', 'bob', 'charli', 'david'],\n",
    "    'Age' : [25, 35, 91, 54]\n",
    "}\n",
    "\n",
    "df = pd.DataFrame(data)\n",
    "\n",
    "print(df)\n",
    "\n",
    "print('\\n',df.loc[1,'Name']) # access the bob (value using lable access) \n",
    "\n",
    "print('\\n',df.iloc[1,0]) #access the bob (value using index access)\n",
    "\n",
    "print('\\n',df.loc[2]) #access the bob (value using index access)\n",
    "\n",
    "print(\"\\n\",df.loc[[0,3]]) #access the bob (value using index access)"
   ]
  },
  {
   "cell_type": "code",
   "execution_count": 46,
   "metadata": {},
   "outputs": [
    {
     "name": "stdout",
     "output_type": "stream",
     "text": [
      "      Calories  Duration\n",
      "day1       370        25\n",
      "day2       380        35\n",
      "day3       390        91\n",
      "\n",
      " 370\n",
      "\n",
      " 370\n",
      "\n",
      " Calories    380\n",
      "Duration     35\n",
      "Name: day2, dtype: int64\n",
      "\n",
      "       Calories  Duration\n",
      "day2       380        35\n",
      "\n",
      " day1    370\n",
      "day2    380\n",
      "day3    390\n",
      "Name: Calories, dtype: int64\n",
      "\n",
      " day1    25\n",
      "day2    35\n",
      "day3    91\n",
      "Name: Duration, dtype: int64\n",
      "\n",
      " (3, 2)\n",
      "\n",
      " 6\n",
      "\n",
      " Calories    int64\n",
      "Duration    int64\n",
      "dtype: object\n"
     ]
    }
   ],
   "source": [
    "import pandas as pd \n",
    "\n",
    "data = {\n",
    "    'Calories' : [370, 380, 390],\n",
    "    'Duration' : [25, 35, 91]\n",
    "}\n",
    "\n",
    "df = pd.DataFrame(data, index=['day1', 'day2', 'day3'])\n",
    "\n",
    "print(df)\n",
    "\n",
    "print('\\n',df.loc['day1','Calories']) # access the bob (value using lable access) \n",
    "\n",
    "print('\\n',df.iloc[0,0]) #access the bob (value using index access)\n",
    "\n",
    "print('\\n',df.loc['day2'])\n",
    "\n",
    "print('\\n',df.iloc[[1]])\n",
    "\n",
    "print('\\n',df['Calories']) # access only Coloumns \n",
    "\n",
    "print('\\n',df['Duration']) # access only coloumns \n",
    "\n",
    "print('\\n',df.shape) # get shape the it's like a tuple \n",
    "\n",
    "print('\\n',df.size) # get size or length in this dataFrame\n",
    "\n",
    "print('\\n',df.dtypes) # get datatypes in this dataFrame\n",
    "\n",
    "\n"
   ]
  },
  {
   "cell_type": "code",
   "execution_count": 50,
   "metadata": {},
   "outputs": [
    {
     "name": "stdout",
     "output_type": "stream",
     "text": [
      "   A  B\n",
      "0  1  3\n",
      "1  2  4\n",
      "Index(['A', 'B'], dtype='object')\n"
     ]
    }
   ],
   "source": [
    "import pandas as pd \n",
    "\n",
    "df = pd.DataFrame({'A':[1,2], 'B':[3,4]}) # define a new array with key values \n",
    "\n",
    "print(df)\n",
    "\n",
    "print(df.columns) # get coloumns \n"
   ]
  },
  {
   "cell_type": "code",
   "execution_count": 61,
   "metadata": {},
   "outputs": [
    {
     "name": "stdout",
     "output_type": "stream",
     "text": [
      "   Calories  Duration\n",
      "0       370        25\n",
      "1       380        35\n",
      "2       390        91\n",
      "dataframe convert to array : \n",
      " [[370  25]\n",
      " [380  35]\n",
      " [390  91]]\n",
      "<class 'numpy.ndarray'>\n"
     ]
    }
   ],
   "source": [
    "import pandas as pd \n",
    "\n",
    "data = {\n",
    "    'Calories' : [370, 380, 390],\n",
    "    'Duration' : [25, 35, 91]\n",
    "}\n",
    "\n",
    "df = pd.DataFrame(data)\n",
    "\n",
    "print(df)\n",
    "\n",
    "arr =  df.values\n",
    "print('dataframe convert to array : \\n',arr)\n",
    "print(type(arr))\n"
   ]
  },
  {
   "cell_type": "code",
   "execution_count": 64,
   "metadata": {},
   "outputs": [
    {
     "name": "stdout",
     "output_type": "stream",
     "text": [
      "   Calories  Duration\n",
      "0       370        25\n",
      "1       380        35\n",
      "2       390        91\n",
      "get row count in using len :  3\n"
     ]
    }
   ],
   "source": [
    "import pandas as pd \n",
    "\n",
    "data = {\n",
    "    'Calories' : [370, 380, 390],\n",
    "    'Duration' : [25, 35, 91]\n",
    "}\n",
    "\n",
    "df = pd.DataFrame(data)\n",
    "\n",
    "print(df)\n",
    "\n",
    "print('get row count in using len : ',len(df))"
   ]
  },
  {
   "cell_type": "code",
   "execution_count": 75,
   "metadata": {},
   "outputs": [
    {
     "name": "stdout",
     "output_type": "stream",
     "text": [
      "   Age  Salary\n",
      "0   25   50000\n",
      "1   30   60000\n",
      "2   35   70000\n",
      "3   40   80000\n",
      "find mean in DataForm : \n",
      " <bound method DataFrame.mean of    Age  Salary\n",
      "0   25   50000\n",
      "1   30   60000\n",
      "2   35   70000\n",
      "3   40   80000>\n",
      "\n",
      "find mean in DataForm in coloumn : \n",
      " <bound method Series.mean of 0    25\n",
      "1    30\n",
      "2    35\n",
      "3    40\n",
      "Name: Age, dtype: int64>\n",
      "\n",
      "find Sum of sallery DataForm in coloumn : \n",
      " Age          130\n",
      "Salary    260000\n",
      "dtype: int64\n",
      "\n",
      "find Sum of sallery DataForm in coloumn : \n",
      " 260000\n"
     ]
    }
   ],
   "source": [
    "import pandas as pd \n",
    "\n",
    "data = {\n",
    "    'Age' : [25, 30, 35, 40],\n",
    "    'Salary' : [50000,60000, 70000, 80000]\n",
    "}\n",
    "\n",
    "df = pd.DataFrame(data)\n",
    "\n",
    "print(df)\n",
    "\n",
    "\n",
    "print(\"find mean in DataForm : \\n\",df.mean)\n",
    "\n",
    "print(\"\\nfind mean in DataForm in coloumn : \\n\",df['Age'].mean)\n",
    "\n",
    "print(\"\\nfind Sum of sallery DataForm in coloumn : \\n\",df.sum())\n",
    "\n",
    "print(\"\\nfind Sum of sallery DataForm in coloumn : \\n\",df['Salary'].sum())\n"
   ]
  },
  {
   "cell_type": "code",
   "execution_count": 89,
   "metadata": {},
   "outputs": [
    {
     "name": "stdout",
     "output_type": "stream",
     "text": [
      "     Name  Age  Score\n",
      "0   aliss   25     85\n",
      "1     bob   35     70\n",
      "2  charli   91     90\n",
      "3   david   54     88\n",
      "     Name  Age  Score\n",
      "2  charli   91     90\n",
      "\n",
      "Sort table value :\n",
      "      Name  Age  Score\n",
      "0   aliss   25     85\n",
      "1     bob   35     70\n",
      "3   david   54     88\n",
      "2  charli   91     90\n"
     ]
    }
   ],
   "source": [
    "import pandas as pd \n",
    "\n",
    "data = {\n",
    "    'Name' : ['aliss', 'bob', 'charli', 'david'],\n",
    "    'Age' : [25, 35, 91, 54],\n",
    "    'Score' : [85, 70, 90, 88] \n",
    "}\n",
    "\n",
    "df = pd.DataFrame(data)\n",
    "print(df)\n",
    "\n",
    "condition = df[\"Age\"] > 75 # filter data with condition giving\n",
    "print(df[condition])\n",
    "\n",
    "sorted_values = df.sort_values(by='Age')\n",
    "print('\\nSort table value :\\n',sorted_values)\n"
   ]
  },
  {
   "cell_type": "code",
   "execution_count": 92,
   "metadata": {},
   "outputs": [
    {
     "name": "stdout",
     "output_type": "stream",
     "text": [
      "   A  B\n",
      "0  1  3\n",
      "1  2  4\n",
      "\n",
      "    A  B\n",
      "0  1  3\n",
      "1  2  4\n",
      "2  5  6\n"
     ]
    }
   ],
   "source": [
    "import pandas as pd \n",
    "#  How to add a Row \n",
    "df = pd.DataFrame({'A':[1,2], 'B':[3,4]}) # define a new array with key values \n",
    "\n",
    "print(df)\n",
    "\n",
    "df.loc[len(df)] = [5, 6]\n",
    "print('\\n',df) # add new row\n",
    "\n",
    " "
   ]
  },
  {
   "cell_type": "code",
   "execution_count": 111,
   "metadata": {},
   "outputs": [
    {
     "name": "stdout",
     "output_type": "stream",
     "text": [
      "Original DataFrame:\n",
      "   A  B\n",
      "0  1  3\n",
      "1  2  4\n",
      "\n",
      "DataFrame after dropping column 'B':\n",
      "   A\n",
      "0  1\n",
      "1  2\n",
      "\n",
      "DataFrame after dropping the first row:\n",
      "   A  B\n",
      "1  2  4\n"
     ]
    }
   ],
   "source": [
    "import pandas as pd \n",
    "\n",
    "# Define a DataFrame\n",
    "df = pd.DataFrame({'A': [1, 2], 'B': [3, 4]})  \n",
    "print(\"Original DataFrame:\")\n",
    "print(df)\n",
    "\n",
    "# Add a new row\n",
    "# new_row = {'A': 5, 'B': 6}  # New row as a dictionary\n",
    "# df = df.append(new_row, ignore_index=True)  # Add the new row\n",
    "# print(\"\\nDataFrame after adding a row:\")\n",
    "# print(df)\n",
    "\n",
    "# Drop a column\n",
    "dropped_column = df.drop('B', axis=1)\n",
    "print(\"\\nDataFrame after dropping column 'B':\")\n",
    "print(dropped_column)\n",
    "\n",
    "# Drop a row\n",
    "dropped_row = df.drop(0, axis=0)  # Drop the first row\n",
    "print(\"\\nDataFrame after dropping the first row:\")\n",
    "print(dropped_row)\n"
   ]
  }
 ],
 "metadata": {
  "kernelspec": {
   "display_name": "Python 3",
   "language": "python",
   "name": "python3"
  },
  "language_info": {
   "codemirror_mode": {
    "name": "ipython",
    "version": 3
   },
   "file_extension": ".py",
   "mimetype": "text/x-python",
   "name": "python",
   "nbconvert_exporter": "python",
   "pygments_lexer": "ipython3",
   "version": "3.13.0"
  },
  "orig_nbformat": 4
 },
 "nbformat": 4,
 "nbformat_minor": 2
}
