{
 "cells": [
  {
   "cell_type": "code",
   "execution_count": 3,
   "metadata": {},
   "outputs": [
    {
     "name": "stdout",
     "output_type": "stream",
     "text": [
      "     Name  Age\n",
      "0   aloce   25\n",
      "1    bobs   35\n",
      "2  charli   91\n",
      "3   david   54\n",
      "<class 'pandas.core.frame.DataFrame'>\n"
     ]
    }
   ],
   "source": [
    "import pandas as pd \n",
    "\n",
    "data = {\n",
    "    'Name' : ['aloce', 'bobs', 'charli', 'david'],\n",
    "    'Age' : [25, 35, 91, 54]\n",
    "}\n",
    "\n",
    "df = pd.DataFrame(data)\n",
    "\n",
    "print(df)\n",
    "print(type(df))"
   ]
  },
  {
   "cell_type": "code",
   "execution_count": 27,
   "metadata": {},
   "outputs": [
    {
     "name": "stdout",
     "output_type": "stream",
     "text": [
      "     Name  Age\n",
      "0   aliss   25\n",
      "1     bob   35\n",
      "2  charli   91\n",
      "3   david   54\n",
      "\n",
      " bob\n",
      "\n",
      " bob\n",
      "\n",
      " Name    charli\n",
      "Age         91\n",
      "Name: 2, dtype: object\n",
      "\n",
      "     Name  Age\n",
      "0  aliss   25\n",
      "3  david   54\n"
     ]
    }
   ],
   "source": [
    "import pandas as pd \n",
    "\n",
    "data = {\n",
    "    'Name' : ['aliss', 'bob', 'charli', 'david'],\n",
    "    'Age' : [25, 35, 91, 54]\n",
    "}\n",
    "\n",
    "df = pd.DataFrame(data)\n",
    "\n",
    "print(df)\n",
    "\n",
    "print('\\n',df.loc[1,'Name']) # access the bob (value using lable access) \n",
    "\n",
    "print('\\n',df.iloc[1,0]) #access the bob (value using index access)\n",
    "\n",
    "print('\\n',df.loc[2]) #access the bob (value using index access)\n",
    "\n",
    "print(\"\\n\",df.loc[[0,3]]) #access the bob (value using index access)"
   ]
  },
  {
   "cell_type": "code",
   "execution_count": 40,
   "metadata": {},
   "outputs": [
    {
     "name": "stdout",
     "output_type": "stream",
     "text": [
      "      Calories  Duration\n",
      "day1       370        25\n",
      "day2       380        35\n",
      "day3       390        91\n",
      "\n",
      " 370\n",
      "\n",
      " 370\n",
      "\n",
      " Calories    380\n",
      "Duration     35\n",
      "Name: day2, dtype: int64\n",
      "\n",
      "       Calories  Duration\n",
      "day2       380        35\n",
      "\n",
      " day1    370\n",
      "day2    380\n",
      "day3    390\n",
      "Name: Calories, dtype: int64\n",
      "\n",
      " day1    25\n",
      "day2    35\n",
      "day3    91\n",
      "Name: Duration, dtype: int64\n"
     ]
    }
   ],
   "source": [
    "import pandas as pd \n",
    "\n",
    "data = {\n",
    "    'Calories' : [370, 380, 390],\n",
    "    'Duration' : [25, 35, 91]\n",
    "}\n",
    "\n",
    "df = pd.DataFrame(data, index=['day1', 'day2', 'day3'])\n",
    "\n",
    "print(df)\n",
    "\n",
    "print('\\n',df.loc['day1','Calories']) # access the bob (value using lable access) \n",
    "\n",
    "print('\\n',df.iloc[0,0]) #access the bob (value using index access)\n",
    "\n",
    "print('\\n',df.loc['day2'])\n",
    "\n",
    "print('\\n',df.iloc[[1]])\n",
    "\n",
    "print('\\n',df['Calories']) # access only Coloumns \n",
    "\n",
    "print('\\n',df['Duration']) # access only coloumns \n",
    "\n"
   ]
  }
 ],
 "metadata": {
  "kernelspec": {
   "display_name": "Python 3",
   "language": "python",
   "name": "python3"
  },
  "language_info": {
   "codemirror_mode": {
    "name": "ipython",
    "version": 3
   },
   "file_extension": ".py",
   "mimetype": "text/x-python",
   "name": "python",
   "nbconvert_exporter": "python",
   "pygments_lexer": "ipython3",
   "version": "3.13.0"
  },
  "orig_nbformat": 4
 },
 "nbformat": 4,
 "nbformat_minor": 2
}
