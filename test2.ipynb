{
 "cells": [
  {
   "cell_type": "code",
   "execution_count": 2,
   "metadata": {},
   "outputs": [
    {
     "name": "stdout",
     "output_type": "stream",
     "text": [
      "[12, 10, 13, 4, 1, 5, 6, 1, 7, 8, 10]\n",
      "[1, 1, 4, 5, 6, 7, 8, 10, 10, 12, 13] \n",
      "\n",
      "6.0\n",
      "the position of median is :  7\n",
      "3.0\n",
      "the Q1 is :  4\n",
      "9.0\n",
      "the Q1 is :  10\n"
     ]
    }
   ],
   "source": [
    "my_list = [12, 10, 13, 4, 1, 5]\n",
    "my_list_2 = [6, 1, 7, 8, 10]\n",
    "my_list.extend(my_list_2)\n",
    "print(my_list)\n",
    "my_list.sort();print(my_list,\"\\n\") \n",
    "\n",
    "position_of_median = (len(my_list)+1)/2; print(position_of_median)\n",
    "position_of_median = int(position_of_median)\n",
    "position_of_median = my_list[position_of_median-1]; print('the position of median is : ',position_of_median)\n",
    "\n",
    "position_of_q1 = (len(my_list)+1)/4; print(position_of_q1)\n",
    "position_of_q1 = int(position_of_q1)\n",
    "position_of_q1 = my_list[position_of_q1-1]; print('the Q1 is : ', position_of_q1)\n",
    "\n",
    "position_of_q2 = ((len(my_list)+1)*3)/4; print(position_of_q2)\n",
    "position_of_q2 = int(position_of_q2)\n",
    "position_of_q2 = my_list[position_of_q2-1]; print('the Q1 is : ', position_of_q2)\n"
   ]
  },
  {
   "cell_type": "code",
   "execution_count": 3,
   "metadata": {},
   "outputs": [
    {
     "name": "stdout",
     "output_type": "stream",
     "text": [
      "[12, 10, 13, 4, 1, 5, 6, 1, 7, 8, 10]\n",
      "[1, 1, 4, 5, 6, 7, 8, 10, 10, 12, 13] \n",
      "\n",
      "length of array : 11\n",
      "median is : 7\n",
      "q1 is : 4\n",
      "q2 is : 10\n"
     ]
    }
   ],
   "source": [
    "my_list = [12, 10, 13, 4, 1, 5]\n",
    "my_list_2 = [6, 1, 7, 8, 10]\n",
    "my_list.extend(my_list_2)\n",
    "print(my_list)\n",
    "my_list.sort()\n",
    "print(my_list,\"\\n\")\n",
    "n = len(my_list); print(\"length of array :\",n)\n",
    "\n",
    "median = my_list[n//2]; print(\"median is :\",median)\n",
    "q1 = my_list[n//4]; print(\"q1 is :\",q1);\n",
    "q2 = my_list[(3 * n) // 4]; print(\"q2 is :\",q2)\n"
   ]
  },
  {
   "cell_type": "code",
   "execution_count": null,
   "metadata": {},
   "outputs": [
    {
     "name": "stdout",
     "output_type": "stream",
     "text": [
      "[25, 10, 8, 5, 3] \n",
      "Array length is : 5\n",
      "<class 'list'>\n"
     ]
    }
   ],
   "source": [
    "my_list = [5,3,10,25,8]\n",
    "my_list.sort(reverse=True) # sort the list in decending order(case Sensitive) \n",
    "print(my_list,\"\\nArray length is :\", len(my_list),)\n",
    "print(type(my_list))"
   ]
  },
  {
   "cell_type": "code",
   "execution_count": null,
   "metadata": {},
   "outputs": [
    {
     "name": "stdout",
     "output_type": "stream",
     "text": [
      "[3, 5, 8, 10, 25] \n",
      "Array length is : 5\n",
      "<class 'list'>\n"
     ]
    }
   ],
   "source": [
    "my_list = [5,3,10,25,8]\n",
    "my_list.sort() # sort the list in acending order(case Sensitive)-->this method by default sort as a acending order \n",
    "print(my_list,\"\\nArray length is :\", len(my_list),)\n",
    "print(type(my_list))"
   ]
  },
  {
   "cell_type": "code",
   "execution_count": null,
   "metadata": {},
   "outputs": [
    {
     "name": "stdout",
     "output_type": "stream",
     "text": [
      "['apple', 'banana', 'Grapes', 'orange'] \n",
      "Array length is : 4\n",
      "<class 'list'>\n"
     ]
    }
   ],
   "source": [
    "my_list = [\"Grapes\", \"apple\", \"orange\", \"banana\"]\n",
    "my_list.sort(key=str.lower) # sort the list in acending order(case inSensitive)\n",
    "print(my_list,\"\\nArray length is :\", len(my_list),)\n",
    "print(type(my_list))"
   ]
  },
  {
   "cell_type": "code",
   "execution_count": null,
   "metadata": {},
   "outputs": [
    {
     "name": "stdout",
     "output_type": "stream",
     "text": [
      "['Grapes', 'apple', 'banana', 'orange'] \n",
      "Array length is : 4\n",
      "<class 'list'>\n"
     ]
    }
   ],
   "source": [
    "my_list = [\"Grapes\", \"apple\", \"orange\", \"banana\"]\n",
    "my_list.sort() # sort the list in acending order(case Sensitive)\n",
    "print(my_list,\"\\nArray length is :\", len(my_list),)\n",
    "print(type(my_list))"
   ]
  },
  {
   "cell_type": "code",
   "execution_count": 56,
   "metadata": {},
   "outputs": [
    {
     "name": "stdout",
     "output_type": "stream",
     "text": [
      "[] \n",
      "Array length is : 0\n",
      "<class 'list'>\n"
     ]
    }
   ],
   "source": [
    "my_list = [10, 5, \"Cat\", \"Dog\", True]\n",
    "my_list.clear() # clear the list\n",
    "print(my_list,\"\\nArray length is :\", len(my_list),)\n",
    "print(type(my_list))"
   ]
  },
  {
   "cell_type": "code",
   "execution_count": null,
   "metadata": {},
   "outputs": [
    {
     "name": "stdout",
     "output_type": "stream",
     "text": [
      "[10, 'Cat', 'Dog', True] \n",
      "Array length is : 4\n",
      "<class 'list'>\n"
     ]
    }
   ],
   "source": [
    "my_list = [10, 5, \"Cat\", \"Dog\", True]\n",
    "del my_list # destroy the list\n",
    "print(my_list,\"\\nArray length is :\", len(my_list),)\n",
    "print(type(my_list))"
   ]
  },
  {
   "cell_type": "code",
   "execution_count": 52,
   "metadata": {},
   "outputs": [
    {
     "name": "stdout",
     "output_type": "stream",
     "text": [
      "[10, 5, 'Cat', True] \n",
      "Array length is : 4\n",
      "<class 'list'>\n"
     ]
    }
   ],
   "source": [
    "my_list = [10, 5, \"Cat\", \"Dog\", True]\n",
    "del my_list[3] # delete the selected alue on the list\n",
    "print(my_list,\"\\nArray length is :\", len(my_list),)\n",
    "print(type(my_list))"
   ]
  },
  {
   "cell_type": "code",
   "execution_count": 43,
   "metadata": {},
   "outputs": [
    {
     "name": "stdout",
     "output_type": "stream",
     "text": [
      "[10, 5, 'Dog', True] \n",
      "Array length is : 4\n",
      "<class 'list'>\n"
     ]
    }
   ],
   "source": [
    "my_list = [10, 5, \"Cat\", \"Dog\", True]\n",
    "my_list.pop(2) # delete the selected alue on the list\n",
    "print(my_list,\"\\nArray length is :\", len(my_list),)\n",
    "print(type(my_list))"
   ]
  },
  {
   "cell_type": "code",
   "execution_count": null,
   "metadata": {},
   "outputs": [
    {
     "name": "stdout",
     "output_type": "stream",
     "text": [
      "[10, 5, 'Cat', 'Dog', True, 1, 2, 'newList'] \n",
      "Array length is : 8\n",
      "<class 'list'>\n"
     ]
    }
   ],
   "source": [
    "my_list = [10, 5, \"Cat\", \"Dog\", True]\n",
    "my_list_1=[1,2,\"newList\"]\n",
    "my_list.extend(my_list_1) # insert one extend list ot list \n",
    "print(my_list,\"\\nArray length is :\", len(my_list),)\n",
    "print(type(my_list))"
   ]
  },
  {
   "cell_type": "code",
   "execution_count": 31,
   "metadata": {},
   "outputs": [
    {
     "name": "stdout",
     "output_type": "stream",
     "text": [
      "[10, 5, 'Cat', 'Dog', True, 'lastValue'] \n",
      "Array length is : 6\n",
      "<class 'list'>\n"
     ]
    }
   ],
   "source": [
    "my_list = [10, 5, \"Cat\", \"Dog\", True]\n",
    "my_list.append(\"lastValue\") # insert value to the last index in the list \n",
    "print(my_list,\"\\nArray length is :\", len(my_list),)\n",
    "print(type(my_list))"
   ]
  },
  {
   "cell_type": "code",
   "execution_count": null,
   "metadata": {},
   "outputs": [],
   "source": [
    "# Defining a list\n",
    "colors = [\"red\", \"green\", \"blue\"]\n",
    "\n",
    "# Accessing elements by index\n",
    "print(colors[0])  # Output: 'red'\n",
    "print(colors[1])  # Output: 'green'\n",
    "print(colors[2])  # Output: 'blue'\n",
    "\n",
    "# Modifying the list maintains order\n",
    "colors.append(\"yellow\")   # Adds 'yellow' to the end of the list\n",
    "print(colors)             # Output: ['red', 'green', 'blue', 'yellow']\n"
   ]
  },
  {
   "cell_type": "code",
   "execution_count": 30,
   "metadata": {},
   "outputs": [
    {
     "name": "stdout",
     "output_type": "stream",
     "text": [
      "[10, 5, 'Rat', 'Cat', 'Dog', True] \n",
      "Array length is : 6\n",
      "<class 'list'>\n"
     ]
    }
   ],
   "source": [
    "my_list = [10, 5, \"Cat\", \"Dog\", True]\n",
    "my_list.insert(2, \"Rat\")\n",
    "print(my_list,\"\\nArray length is :\", len(my_list),)\n",
    "print(type(my_list))\n"
   ]
  },
  {
   "cell_type": "code",
   "execution_count": null,
   "metadata": {},
   "outputs": [
    {
     "name": "stdout",
     "output_type": "stream",
     "text": [
      "[10, 'parrot', 17.3, 'Cat', 'Dog', True]\n"
     ]
    }
   ],
   "source": [
    "my_list = [10, 5, \"Cat\", \"Dog\", True]\n",
    "\n",
    "my_list[1:2] = [\"parrot\",17.3]# change values 5 to \"parrot\" and \"cat\" to 17.3\n",
    "print(my_list)"
   ]
  },
  {
   "cell_type": "code",
   "execution_count": null,
   "metadata": {},
   "outputs": [
    {
     "name": "stdout",
     "output_type": "stream",
     "text": [
      "[3, 'apple', 'banana'] <class 'list'>\n"
     ]
    }
   ],
   "source": [
    "my_list = [1, 2, 3, \"apple\", \"banana\"]\n",
    "print(my_list[2:],type(my_list[2:]))# select values 2nd index to last index in the list "
   ]
  },
  {
   "cell_type": "code",
   "execution_count": 21,
   "metadata": {},
   "outputs": [
    {
     "name": "stdout",
     "output_type": "stream",
     "text": [
      "[1, 2, 3] <class 'list'>\n"
     ]
    }
   ],
   "source": [
    "my_list = [1, 2, 3, \"apple\", \"banana\"]\n",
    "print(my_list[:3],type(my_list[:3]))# select values 1st index to 3rd index in the list "
   ]
  },
  {
   "cell_type": "code",
   "execution_count": null,
   "metadata": {},
   "outputs": [
    {
     "name": "stdout",
     "output_type": "stream",
     "text": [
      "[2, 3, 'apple']\n",
      "[2, 3, 'apple'] <class 'list'>\n"
     ]
    }
   ],
   "source": [
    "my_list = [1, 2, 3, \"apple\", \"banana\"]\n",
    "print(my_list[1:4])# select middle of indexed value range\n",
    "print(my_list[1:4],type(my_list[1:4]))# select middle of indexed value range"
   ]
  },
  {
   "cell_type": "code",
   "execution_count": null,
   "metadata": {},
   "outputs": [
    {
     "name": "stdout",
     "output_type": "stream",
     "text": [
      "banana\n",
      "1\n"
     ]
    }
   ],
   "source": [
    "my_list = [1, 2, 3, \"apple\", \"banana\"]\n",
    "print(my_list[-1])#index value in reverse\n",
    "print(my_list[0])#index value normal\n",
    "\n",
    "\n"
   ]
  },
  {
   "cell_type": "code",
   "execution_count": null,
   "metadata": {},
   "outputs": [
    {
     "name": "stdout",
     "output_type": "stream",
     "text": [
      "5\n"
     ]
    }
   ],
   "source": [
    "my_list = [1, 2, 3, \"apple\", \"banana\"]\n",
    "print(len(my_list))#len means length of the array"
   ]
  },
  {
   "cell_type": "code",
   "execution_count": 12,
   "metadata": {},
   "outputs": [
    {
     "name": "stdout",
     "output_type": "stream",
     "text": [
      "9\n",
      "[1, 2, 3, 'apple', 9]\n"
     ]
    }
   ],
   "source": [
    "#proof to python list are changable \n",
    "my_list = [1, 2, 3, \"apple\", \"banana\"]\n",
    "my_list[4] = 9;\n",
    "print((my_list[4]))\n",
    "print(my_list);"
   ]
  },
  {
   "cell_type": "code",
   "execution_count": 9,
   "metadata": {},
   "outputs": [
    {
     "name": "stdout",
     "output_type": "stream",
     "text": [
      "banana\n"
     ]
    }
   ],
   "source": [
    "my_list = [1, 2, 3, \"apple\", \"banana\"]\n",
    "print((my_list[4]))"
   ]
  },
  {
   "cell_type": "code",
   "execution_count": null,
   "metadata": {},
   "outputs": [
    {
     "name": "stdout",
     "output_type": "stream",
     "text": [
      "apple\n"
     ]
    }
   ],
   "source": [
    "my_list = [1, 2, 3, \"apple\", \"banana\"]\n",
    "print((my_list[3]))#to get 3rd index's assigned value"
   ]
  },
  {
   "cell_type": "code",
   "execution_count": 2,
   "metadata": {},
   "outputs": [
    {
     "name": "stdout",
     "output_type": "stream",
     "text": [
      "[1, 2, 3, 'apple', 'banana'] <class 'list'>\n"
     ]
    }
   ],
   "source": [
    "my_list = [1, 2, 3, \"apple\", \"banana\"]\n",
    "print(my_list,type(my_list))"
   ]
  },
  {
   "cell_type": "code",
   "execution_count": 8,
   "metadata": {},
   "outputs": [
    {
     "name": "stdout",
     "output_type": "stream",
     "text": [
      "[1, 2, 3, 4, 5] <class 'list'>\n"
     ]
    }
   ],
   "source": [
    "my_list = [1, 2, 3, 4, 5]\n",
    "print(my_list,type(my_list))"
   ]
  }
 ],
 "metadata": {
  "kernelspec": {
   "display_name": "Python 3",
   "language": "python",
   "name": "python3"
  },
  "language_info": {
   "codemirror_mode": {
    "name": "ipython",
    "version": 3
   },
   "file_extension": ".py",
   "mimetype": "text/x-python",
   "name": "python",
   "nbconvert_exporter": "python",
   "pygments_lexer": "ipython3",
   "version": "3.13.0"
  }
 },
 "nbformat": 4,
 "nbformat_minor": 2
}
