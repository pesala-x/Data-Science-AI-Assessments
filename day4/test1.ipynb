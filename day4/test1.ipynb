{
 "cells": [
  {
   "cell_type": "code",
   "execution_count": null,
   "metadata": {},
   "outputs": [
    {
     "name": "stdout",
     "output_type": "stream",
     "text": [
      "The sum of the list [1, 2, 3, 4, 5] is 15\n"
     ]
    }
   ],
   "source": [
    "def sum_of_list(arr):\n",
    "    # Base case: if the list is empty, return 0\n",
    "    if not arr:\n",
    "        return 0\n",
    "    return arr[0] + sum_of_list(arr[1:])\n",
    "\n",
    "numbers = [1, 2, 3, 4, 5]\n",
    "result = sum_of_list(numbers)\n",
    "print(f\"The sum of the list {numbers} is {result}\")\n"
   ]
  },
  {
   "cell_type": "code",
   "execution_count": null,
   "metadata": {},
   "outputs": [
    {
     "name": "stdout",
     "output_type": "stream",
     "text": [
      "factorial umber is 120\n"
     ]
    }
   ],
   "source": [
    "# Factorial number find using recursive function \n",
    "\n",
    "def find_factorial (x):\n",
    "    if x == 0 or x == 1 :\n",
    "        return 1\n",
    "    else:\n",
    "        return (x* find_factorial(x-1))\n",
    "\n",
    "num = find_factorial(5)# 1558 max findable factorial number is  \n",
    "print(f\"factorial umber is {num}\")"
   ]
  },
  {
   "cell_type": "code",
   "execution_count": null,
   "metadata": {},
   "outputs": [
    {
     "name": "stdout",
     "output_type": "stream",
     "text": [
      "Factorial number is : 720\n"
     ]
    }
   ],
   "source": [
    "#find factorial number using user inputs\n",
    "def find_factorial(n):\n",
    "    if n < 0:\n",
    "        return \"factorial is not defined\"\n",
    "    elif n == 0 or n == 1 :\n",
    "        return 1\n",
    "    else:\n",
    "        factorial = 1\n",
    "        for i in range(1, n+1):\n",
    "            factorial *= i\n",
    "        return factorial\n",
    "\n",
    "number = find_factorial(5)\n",
    "number = find_factorial(8)\n",
    "print(f\"Factorial number is : {number}\")\n",
    "\n",
    "\"\"\"------------find factorial number using user inputs-------------\n",
    "\n",
    "    def find_factorial(n):\n",
    "    if n < 0:\n",
    "        return \"Factorial is not defined.\"\n",
    "    elif n == 0 or n == 1:\n",
    "        return 1\n",
    "    else:\n",
    "        factorial = 1\n",
    "        for i in range(1, n + 1):\n",
    "            factorial *= i\n",
    "        return factorial\n",
    "    \n",
    "number = int(input(\"Enter a number: \"))\n",
    "result = find_factorial(number)\n",
    "print(f\"The factorial of {number} is {result}\")\n",
    "\"\"\"\n"
   ]
  },
  {
   "cell_type": "code",
   "execution_count": 61,
   "metadata": {},
   "outputs": [
    {
     "name": "stdout",
     "output_type": "stream",
     "text": [
      "The max Number is :  5\n"
     ]
    }
   ],
   "source": [
    "find_max = lambda a,b: a if a > b else b\n",
    "\n",
    "print(\"The max Number is : \",find_max(5,3))"
   ]
  },
  {
   "cell_type": "code",
   "execution_count": 57,
   "metadata": {},
   "outputs": [
    {
     "name": "stdout",
     "output_type": "stream",
     "text": [
      "4\n"
     ]
    }
   ],
   "source": [
    "def my_function(n):\n",
    "    return lambda a : a*n \n",
    "\n",
    "my_function(2) # n = 2 ---> a*2\n",
    "my_double = my_function(2) # (a*2) = my_double -----> 2 return lambda a*n = 2*2 ----> 4  \n",
    "\n",
    "print(my_double(2))"
   ]
  },
  {
   "cell_type": "code",
   "execution_count": 51,
   "metadata": {},
   "outputs": [
    {
     "name": "stdout",
     "output_type": "stream",
     "text": [
      "[('Alice', 23), ('Andrew', 25)]\n"
     ]
    }
   ],
   "source": [
    "# List of people with their ages\n",
    "peoples = [(\"Alice\",23),(\"Jhon\",17),(\"Andrew\",25),(\"Kate\",15)]\n",
    "\n",
    "# Use filter with a lambda function\n",
    "adults = list(filter(lambda person: person[1] >= 18, peoples))\n",
    "print(adults) "
   ]
  },
  {
   "cell_type": "code",
   "execution_count": 49,
   "metadata": {},
   "outputs": [
    {
     "name": "stdout",
     "output_type": "stream",
     "text": [
      "9\n",
      "25\n",
      "100\n"
     ]
    }
   ],
   "source": [
    "\"\"\" Q3 \"\"\"\n",
    "\n",
    "power_of_2 = lambda x: x ** 2\n",
    "\n",
    "print(power_of_2(3))  \n",
    "print(power_of_2(5))  \n",
    "print(power_of_2(10))\n",
    "\n",
    "\n"
   ]
  },
  {
   "cell_type": "code",
   "execution_count": 46,
   "metadata": {},
   "outputs": [
    {
     "name": "stdout",
     "output_type": "stream",
     "text": [
      "12\n",
      "lambda can use in single line  : 14\n"
     ]
    }
   ],
   "source": [
    "# Lambda expression\n",
    "add  = lambda x,y : x+y\n",
    "print(add(4,8))\n",
    "\n",
    "result = (lambda x,y : x+y )(5,9) # lambda in single line \n",
    "\n",
    "print(\"lambda can use in single line  :\",result)"
   ]
  },
  {
   "cell_type": "code",
   "execution_count": 41,
   "metadata": {},
   "outputs": [
    {
     "name": "stdout",
     "output_type": "stream",
     "text": [
      "<filter object at 0x00000206D25D1330> <class 'filter'>\n",
      "[8, 10, 6]\n"
     ]
    }
   ],
   "source": [
    "my_list = [5, 8, 10, 9, 6, 3]\n",
    "\n",
    "def check_even(x):\n",
    "    return x%2 == 0;\n",
    "\n",
    "result  = filter(check_even,my_list)\n",
    "print(result,type(result))\n",
    "print(list(result))                                                         \n",
    " "
   ]
  },
  {
   "cell_type": "code",
   "execution_count": 38,
   "metadata": {},
   "outputs": [
    {
     "name": "stdout",
     "output_type": "stream",
     "text": [
      "[68.0, 86.0, 77.0, 104.0, 59.0]\n"
     ]
    }
   ],
   "source": [
    "temp = [20, 30, 25, 40, 15] # celcious tempreture list \n",
    "\n",
    "# Farenheit = (celsius*(9/5)+32) this is the formula to celcious convert to farenheit\n",
    "\n",
    "def convert_farenheit (temp_celcious): #formula to convert C to --> F\n",
    "    return temp_celcious*9/5+32\n",
    "\n",
    "result = list(map(convert_farenheit,temp)) # converting list values and assign result as a list  \n",
    "print(result)"
   ]
  },
  {
   "cell_type": "code",
   "execution_count": 36,
   "metadata": {},
   "outputs": [
    {
     "name": "stdout",
     "output_type": "stream",
     "text": [
      "[14, 11, 11, 7]\n"
     ]
    }
   ],
   "source": [
    "my_list1= [10, 8, 5, 6]\n",
    "my_list2= [4, 3, 6, 1]\n",
    "\n",
    "def sumof_num(count1, count2):\n",
    "    return(count1+count2)\n",
    "    \n",
    "\n",
    "result = map(sumof_num,my_list1,my_list2)\n",
    "print(result,list(result))# get ittarated number \n"
   ]
  },
  {
   "cell_type": "code",
   "execution_count": 32,
   "metadata": {},
   "outputs": [
    {
     "name": "stdout",
     "output_type": "stream",
     "text": [
      "<map object at 0x00000206D27143D0> <class 'map'>\n",
      "[25, 64, 81, 1, 9]\n"
     ]
    }
   ],
   "source": [
    "# inbuild Functions\n",
    "\n",
    "# map function overview\n",
    " \n",
    "my_list= [5, 8, 9, 1, 3]\n",
    "\n",
    "def cal_square(x):\n",
    "    return(x*x)\n",
    "\n",
    "result = map(cal_square,my_list)\n",
    "\n",
    "print(result, type(result))\n",
    "print(list(result))"
   ]
  },
  {
   "cell_type": "code",
   "execution_count": 28,
   "metadata": {},
   "outputs": [
    {
     "name": "stdout",
     "output_type": "stream",
     "text": [
      "450\n"
     ]
    }
   ],
   "source": [
    "# inbuild Functions\n",
    "\n",
    "x = abs(-450)# Absolute value  \n",
    "print(x)\n"
   ]
  },
  {
   "cell_type": "code",
   "execution_count": 27,
   "metadata": {},
   "outputs": [
    {
     "name": "stdout",
     "output_type": "stream",
     "text": [
      "Employee Name: Saman\n",
      "role.Driver\n",
      "age.35\n",
      "department.Logistics\n",
      "\n",
      "Returned Dictionary:\n",
      "{'role': 'Driver', 'age': 35, 'department': 'Logistics'}\n",
      "<class 'dict'>\n"
     ]
    }
   ],
   "source": [
    "def employee_info(name, **details):\n",
    "    print(f\"Employee Name: {name}\")\n",
    "    \n",
    "    # Iterate through the details dictionary and print key-value pairs\n",
    "    for key, value in details.items():\n",
    "        print(f\"{key}.{value}\")\n",
    "    \n",
    "    # Return the details dictionary\n",
    "    return details\n",
    "\n",
    "\n",
    "attributes = employee_info(name=\"Saman\", role=\"Driver\", age=35, department=\"Logistics\")\n",
    "print(\"\\nReturned Dictionary:\")\n",
    "print(attributes)\n",
    "print(type(attributes))\n"
   ]
  },
  {
   "cell_type": "code",
   "execution_count": null,
   "metadata": {},
   "outputs": [],
   "source": []
  },
  {
   "cell_type": "code",
   "execution_count": 24,
   "metadata": {},
   "outputs": [
    {
     "name": "stdout",
     "output_type": "stream",
     "text": [
      "Employee Name: Saman\n",
      "role.Driver\n",
      "age.35\n",
      "department.Logistics\n"
     ]
    }
   ],
   "source": [
    "# second class quiss \n",
    "\n",
    "def employee_info(name, **details):\n",
    "    print(f\"Employee Name: {name}\")\n",
    "    \n",
    "    # Iterate through the details dictionary\n",
    "    for key, value in details.items():\n",
    "        print(f\"{key}.{value}\")\n",
    "\n",
    "# send arguments to the function\n",
    "employee_info(name=\"Saman\", role=\"Driver\", age=35, department=\"Logistics\")\n"
   ]
  },
  {
   "cell_type": "code",
   "execution_count": 21,
   "metadata": {},
   "outputs": [
    {
     "name": "stdout",
     "output_type": "stream",
     "text": [
      "{'name': 'Sunil', 'age': 67, 'RIPED': 69}\n",
      "<class 'dict'>\n",
      "\n",
      "name: Sunil\n",
      "\n",
      "age: 67\n",
      "\n",
      "RIPED: 69\n"
     ]
    }
   ],
   "source": [
    "def arbitary_key_ars(**k_args):\n",
    "    print(k_args)\n",
    "    print(type(k_args))\n",
    "\n",
    "    for key, value in k_args.items():\n",
    "        print(f\"\\n{key}: {value}\")\n",
    "\n",
    "arbitary_key_ars(name=\"Sunil\", age = 67, RIPED = 69)"
   ]
  },
  {
   "cell_type": "code",
   "execution_count": 19,
   "metadata": {},
   "outputs": [
    {
     "name": "stdout",
     "output_type": "stream",
     "text": [
      "\n",
      "Student Name: Chamud\n",
      "Highest Grade: 100\n",
      "Lowest Grade: 76\n",
      "equal of Grades: 359\n",
      "Average Grade: 89.75\n",
      "\n",
      "Student Name: Maleesha\n",
      "Highest Grade: 60\n",
      "Lowest Grade: 45\n",
      "equal of Grades: 160\n",
      "Average Grade: 53.33\n",
      "\n",
      "Student Name: Mahinda\n",
      "No grades available.\n"
     ]
    }
   ],
   "source": [
    "#inclass excercise \n",
    "\n",
    "def summarize_grade(student_name, *grade_scores):\n",
    "    # Print the student's name\n",
    "    print(f\"\\nStudent Name: {student_name}\")\n",
    "    \n",
    "    # Check if grades are provided\n",
    "    if not grade_scores:\n",
    "        print(\"No grades available.\")\n",
    "        return\n",
    "    \n",
    "    # Calculate highest, lowest, and average grade\n",
    "    highest_grade = max(grade_scores)\n",
    "    lowest_grade = min(grade_scores)\n",
    "    sum_of_grades = sum(grade_scores)\n",
    "    average_grade = sum(grade_scores) / len(grade_scores)\n",
    "    \n",
    "    # Print the calculated values\n",
    "    print(f\"Highest Grade: {highest_grade}\")\n",
    "    print(f\"Lowest Grade: {lowest_grade}\")\n",
    "    print(f\"equal of Grades: {sum_of_grades}\")\n",
    "    print(f\"Average Grade: {average_grade:.2f}\")\n",
    "    \n",
    "    # # Evaluation\n",
    "    # if average_grade >= 90:\n",
    "    #     print(\"Evaluation: Excellent\")\n",
    "    # elif average_grade >= 75:\n",
    "    #     print(\"Evaluation: Good\")\n",
    "    # elif average_grade >= 50:\n",
    "    #     print(\"Evaluation: Pass\")\n",
    "    # else:\n",
    "    #     print(\"Evaluation: Fail\")\n",
    "\n",
    "summarize_grade(\"Chamud\", 95, 88, 76, 100)\n",
    "summarize_grade(\"Maleesha\", 45, 60, 55)\n",
    "summarize_grade(\"Mahinda\")\n"
   ]
  },
  {
   "cell_type": "code",
   "execution_count": 11,
   "metadata": {},
   "outputs": [
    {
     "name": "stdout",
     "output_type": "stream",
     "text": [
      "(1, 2, 3)\n",
      "2\n"
     ]
    }
   ],
   "source": [
    "# arbitary_possitional_argument\n",
    "\n",
    "def key_word(*arg):\n",
    "    print(arg);\n",
    "    print(arg[1])\n",
    "\n",
    "key_word(1,2,3)\n",
    "\n",
    "# for i in arg:\n",
    "#     print(i)\n"
   ]
  },
  {
   "cell_type": "code",
   "execution_count": 5,
   "metadata": {},
   "outputs": [
    {
     "name": "stdout",
     "output_type": "stream",
     "text": [
      "<class 'tuple'>\n",
      "(2, 5, 8, 8)\n"
     ]
    }
   ],
   "source": [
    "arbitary_possitional_arg\n",
    "\n",
    "def arbitary_possitional_arg(*args):\n",
    "    print(type(args))\n",
    "    print(args)\n",
    "\n",
    "arbitary_possitional_arg(2,5,8,8)"
   ]
  }
 ],
 "metadata": {
  "kernelspec": {
   "display_name": "Python 3",
   "language": "python",
   "name": "python3"
  },
  "language_info": {
   "codemirror_mode": {
    "name": "ipython",
    "version": 3
   },
   "file_extension": ".py",
   "mimetype": "text/x-python",
   "name": "python",
   "nbconvert_exporter": "python",
   "pygments_lexer": "ipython3",
   "version": "3.13.0"
  }
 },
 "nbformat": 4,
 "nbformat_minor": 2
}
