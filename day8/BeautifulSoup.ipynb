{
 "cells": [
  {
   "cell_type": "code",
   "execution_count": 9,
   "metadata": {},
   "outputs": [
    {
     "name": "stdout",
     "output_type": "stream",
     "text": [
      "title scrap :  <title>The Dormouse's story</title>\n",
      "\n",
      "first ptag scrap :  <p class=\"title\"><b>The Dormouse's story</b></p>\n",
      "\n",
      "first aTag scrap :  <a class=\"sister\" href='http://example.com/elsie\"' id=\"link1\">Elsie</a>\n",
      "\n",
      "first ptag scrap :  <p class=\"title\"><b>The Dormouse's story</b></p>\n",
      "\n",
      "all ptags scrap :  [<p class=\"title\"><b>The Dormouse's story</b></p>, <p class=\"story\">Once upon a time there were three little sisters; and their names were\n",
      "<a class=\"sister\" href='http://example.com/elsie\"' id=\"link1\">Elsie</a>,\n",
      "<a class=\"sister\" href='http://example.com/lacie\"' id=\"link2\">Lacie</a> and\n",
      "<a class=\"sister\" href='http://example.com/tillie\"' id=\"link3\">Tillie</a>;\n",
      "and they lived at the bottom of a well.</p>, <p class=\"story\">...</p>]\n",
      "\n",
      "all ptags scrap :  [<a class=\"sister\" href='http://example.com/elsie\"' id=\"link1\">Elsie</a>, <a class=\"sister\" href='http://example.com/lacie\"' id=\"link2\">Lacie</a>, <a class=\"sister\" href='http://example.com/tillie\"' id=\"link3\">Tillie</a>]\n"
     ]
    }
   ],
   "source": [
    "from bs4 import BeautifulSoup\n",
    "\n",
    "html_doc = \"\"\"<html><head><title>The Dormouse's story</title></head>\n",
    "<body>\n",
    "<p class=\"title\"><b>The Dormouse's story</b></p>\n",
    "<p class=\"story\">Once upon a time there were three little sisters; and their names were\n",
    "<a href=\"http://example.com/elsie&quot;\" class=\"sister\" id=\"link1\">Elsie</a>,\n",
    "<a href=\"http://example.com/lacie&quot;\" class=\"sister\" id=\"link2\">Lacie</a> and\n",
    "<a href=\"http://example.com/tillie&quot;\" class=\"sister\" id=\"link3\">Tillie</a>;\n",
    "and they lived at the bottom of a well.</p>\n",
    "<p class=\"story\">...</p>\n",
    "\"\"\"\n",
    "\n",
    "# Parse the HTML\n",
    "soup = BeautifulSoup(html_doc, 'html.parser')\n",
    "\n",
    "print('title scrap : ',soup.title)\n",
    "print('\\nfirst ptag scrap : ',soup.p)\n",
    "print('\\nfirst aTag scrap : ',soup.a)\n",
    "\n",
    "p_tag = soup.find('p')\n",
    "print('\\nfirst ptag scrap : ',p_tag)\n",
    "\n",
    "p_tags = soup.findAll('p')\n",
    "print('\\nall ptags scrap : ',p_tags)\n",
    "\n",
    "p_tags = soup.findAll('a')\n",
    "print('\\nall ptags scrap : ',p_tags)\n"
   ]
  },
  {
   "cell_type": "code",
   "execution_count": 24,
   "metadata": {},
   "outputs": [
    {
     "name": "stdout",
     "output_type": "stream",
     "text": [
      "Successfully fetched the page!\n",
      "h1 tag is : Example Domain\n"
     ]
    }
   ],
   "source": [
    "# fatch data from the website\n",
    "\n",
    "from bs4 import BeautifulSoup\n",
    "import requests\n",
    "\n",
    "url = 'https://example.com'\n",
    "\n",
    "# Fetching the response\n",
    "response = requests.get(url)\n",
    "\n",
    "if response.status_code == 200:\n",
    "    print('Successfully fetched the page!')\n",
    "    \n",
    "    # Parsing the response content\n",
    "    soup = BeautifulSoup(response.content, 'html.parser')\n",
    "    \n",
    "    h_tag = soup.find('h1')# Search for the first <h1> tag\n",
    "    # print(h_tag)\n",
    "    # print(h_tag.text.strip())\n",
    "    \n",
    "    if h_tag:\n",
    "        print(\"h1 tag is :\" ,h_tag.text.strip())\n",
    "    else:\n",
    "        print('there are no heading h1 tags')\n",
    "else:\n",
    "    print('Some error occurred while fetching the page. Status code:', response.status_code)\n",
    "    "
   ]
  }
 ],
 "metadata": {
  "kernelspec": {
   "display_name": "Python 3",
   "language": "python",
   "name": "python3"
  },
  "language_info": {
   "codemirror_mode": {
    "name": "ipython",
    "version": 3
   },
   "file_extension": ".py",
   "mimetype": "text/x-python",
   "name": "python",
   "nbconvert_exporter": "python",
   "pygments_lexer": "ipython3",
   "version": "3.13.0"
  }
 },
 "nbformat": 4,
 "nbformat_minor": 2
}
