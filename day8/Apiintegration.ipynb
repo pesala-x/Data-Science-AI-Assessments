{
 "cells": [
  {
   "cell_type": "code",
   "execution_count": 1,
   "metadata": {},
   "outputs": [
    {
     "name": "stdout",
     "output_type": "stream",
     "text": [
      "https://api.open-meteo.com/v1/forecast?latitude=52.52&longitude=13.41&current=temperature_2m%2Cwind_speed_10m\n",
      "{'latitude': 52.52, 'longitude': 13.419998, 'generationtime_ms': 0.03802776336669922, 'utc_offset_seconds': 0, 'timezone': 'GMT', 'timezone_abbreviation': 'GMT', 'elevation': 38.0, 'current_units': {'time': 'iso8601', 'interval': 'seconds', 'temperature_2m': '°C', 'wind_speed_10m': 'km/h'}, 'current': {'time': '2025-01-09T08:45', 'interval': 900, 'temperature_2m': 0.9, 'wind_speed_10m': 4.7}}\n"
     ]
    }
   ],
   "source": [
    "import requests\n",
    "\n",
    "base_url = 'https://api.open-meteo.com/v1/forecast?'\n",
    "\n",
    "params ={\n",
    "        'latitude' : 52.52,\n",
    "        'longitude':13.41,\n",
    "        'current':'temperature_2m,wind_speed_10m'\n",
    "        }\n",
    "response = requests.get(base_url, params= params)\n",
    "\n",
    "\n",
    "if response.status_code == 200:\n",
    "    print(response.url)\n",
    "    print(response.json())\n",
    "else:\n",
    "    print('Some Error Occord',response.status_code)"
   ]
  },
  {
   "cell_type": "code",
   "execution_count": 6,
   "metadata": {},
   "outputs": [
    {
     "name": "stdout",
     "output_type": "stream",
     "text": [
      "Success ! https://api.open-meteo.com/v1/forecast?latitude=52.52&longitude=13.41&current=temperature_2m%2Cwind_speed_10m\n",
      "{'latitude': 52.52, 'longitude': 13.419998, 'generationtime_ms': 0.028014183044433594, 'utc_offset_seconds': 0, 'timezone': 'GMT', 'timezone_abbreviation': 'GMT', 'elevation': 38.0, 'current_units': {'time': 'iso8601', 'interval': 'seconds', 'temperature_2m': '°C', 'wind_speed_10m': 'km/h'}, 'current': {'time': '2025-01-09T09:00', 'interval': 900, 'temperature_2m': 0.9, 'wind_speed_10m': 4.7}}\n"
     ]
    }
   ],
   "source": [
    "import requests\n",
    "\n",
    "def get_wether_info(latitude,longitude,current):\n",
    "    \n",
    "    base_url = 'https://api.open-meteo.com/v1/forecast?'\n",
    "    \n",
    "    params={\n",
    "            'latitude': latitude,\n",
    "            'longitude': longitude,\n",
    "            'current':current\n",
    "    }\n",
    "    response = requests.get(base_url, params= params)\n",
    "    \n",
    "    \n",
    "    if response.status_code == 200:\n",
    "        print(\"Success !\", response.url)\n",
    "        print(response.json())\n",
    "    else:\n",
    "        print('Some Error Occord',response.status_code)\n",
    "        return None\n",
    "    \n",
    "latitude = 52.52\n",
    "longitude = 13.41\n",
    "current = 'temperature_2m,wind_speed_10m'\n",
    "weather_data = get_wether_info(latitude,longitude,current)\n",
    "\n"
   ]
  }
 ],
 "metadata": {
  "kernelspec": {
   "display_name": "Python 3",
   "language": "python",
   "name": "python3"
  },
  "language_info": {
   "codemirror_mode": {
    "name": "ipython",
    "version": 3
   },
   "file_extension": ".py",
   "mimetype": "text/x-python",
   "name": "python",
   "nbconvert_exporter": "python",
   "pygments_lexer": "ipython3",
   "version": "3.13.0"
  }
 },
 "nbformat": 4,
 "nbformat_minor": 2
}
