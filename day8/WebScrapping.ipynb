{
 "cells": [
  {
   "cell_type": "code",
   "execution_count": 1,
   "metadata": {},
   "outputs": [
    {
     "name": "stdout",
     "output_type": "stream",
     "text": [
      "<Response [200]>\n"
     ]
    }
   ],
   "source": [
    "import requests\n",
    "\n",
    "response = requests.get('https://api.github.com/events') # cleint request link \n",
    "print(response)# request "
   ]
  },
  {
   "cell_type": "code",
   "execution_count": 3,
   "metadata": {},
   "outputs": [
    {
     "name": "stdout",
     "output_type": "stream",
     "text": [
      "<Response [200]>\n",
      "200\n"
     ]
    }
   ],
   "source": [
    "import requests\n",
    "\n",
    "response = requests.get('https://api.github.com/events') # cleint request link \n",
    "print(response)# request \n",
    "print(response.status_code)# status code of the response"
   ]
  },
  {
   "cell_type": "code",
   "execution_count": 5,
   "metadata": {},
   "outputs": [
    {
     "name": "stdout",
     "output_type": "stream",
     "text": [
      "<Response [200]>\n",
      "200\n",
      "Successfully fetch the code!\n"
     ]
    }
   ],
   "source": [
    "import requests\n",
    "\n",
    "response = requests.get('https://api.github.com/events') # cleint request link \n",
    "print(response)# request \n",
    "print(response.status_code)# status code of the response\n",
    "if response.status_code == 200:\n",
    "    print('Successfully fetch the code!')\n",
    "else:\n",
    "    print('some error happend while fatching tha page')"
   ]
  },
  {
   "cell_type": "code",
   "execution_count": 8,
   "metadata": {},
   "outputs": [
    {
     "name": "stdout",
     "output_type": "stream",
     "text": [
      "<Response [200]>\n",
      "200\n",
      "Successfully fetch the code!\n",
      "Response's Header :  {'Date': 'Thu, 09 Jan 2025 04:08:36 GMT', 'Content-Type': 'application/json; charset=utf-8', 'Cache-Control': 'public, max-age=60, s-maxage=60', 'Vary': 'Accept,Accept-Encoding, Accept, X-Requested-With', 'ETag': 'W/\"6cd57b6d5d312467773eab3132ace58c5a6cf1f4a399edfc883056da86820534\"', 'Last-Modified': 'Thu, 09 Jan 2025 04:03:36 GMT', 'X-Poll-Interval': '60', 'X-GitHub-Media-Type': 'github.v3; format=json', 'Link': '<https://api.github.com/events?page=2>; rel=\"next\", <https://api.github.com/events?page=10>; rel=\"last\"', 'x-github-api-version-selected': '2022-11-28', 'Access-Control-Expose-Headers': 'ETag, Link, Location, Retry-After, X-GitHub-OTP, X-RateLimit-Limit, X-RateLimit-Remaining, X-RateLimit-Used, X-RateLimit-Resource, X-RateLimit-Reset, X-OAuth-Scopes, X-Accepted-OAuth-Scopes, X-Poll-Interval, X-GitHub-Media-Type, X-GitHub-SSO, X-GitHub-Request-Id, Deprecation, Sunset', 'Access-Control-Allow-Origin': '*', 'Strict-Transport-Security': 'max-age=31536000; includeSubdomains; preload', 'X-Frame-Options': 'deny', 'X-Content-Type-Options': 'nosniff', 'X-XSS-Protection': '0', 'Referrer-Policy': 'origin-when-cross-origin, strict-origin-when-cross-origin', 'Content-Security-Policy': \"default-src 'none'\", 'Content-Encoding': 'gzip', 'Server': 'github.com', 'Accept-Ranges': 'bytes', 'X-RateLimit-Limit': '60', 'X-RateLimit-Remaining': '40', 'X-RateLimit-Reset': '1736396610', 'X-RateLimit-Resource': 'core', 'X-RateLimit-Used': '20', 'Transfer-Encoding': 'chunked', 'X-GitHub-Request-Id': '5283:14264D:48F2D3:555A21:677F4BC3'}\n"
     ]
    }
   ],
   "source": [
    "# status code headers \n",
    "import requests\n",
    "\n",
    "response = requests.get('https://api.github.com/events') # cleint request link \n",
    "print(response)# request \n",
    "print(response.status_code)# status code of the response\n",
    "if response.status_code == 200:\n",
    "    print('Successfully fetch the code!')\n",
    "    print(\"Response's Header : \",response.headers)\n",
    "else:\n",
    "    print('some error happend while fatching tha page')"
   ]
  },
  {
   "cell_type": "code",
   "execution_count": 9,
   "metadata": {},
   "outputs": [
    {
     "name": "stdout",
     "output_type": "stream",
     "text": [
      "<Response [200]>\n",
      "200\n",
      "Successfully fetch the code!\n",
      "Response's Header :  {'Date': 'Thu, 09 Jan 2025 04:10:28 GMT', 'Content-Type': 'application/json; charset=utf-8', 'Cache-Control': 'public, max-age=60, s-maxage=60', 'Vary': 'Accept,Accept-Encoding, Accept, X-Requested-With', 'ETag': 'W/\"c33f11ab76ffcba2f7e4323d0768f945c881bf8923fc248a828128d4257254fd\"', 'Last-Modified': 'Thu, 09 Jan 2025 04:05:28 GMT', 'X-Poll-Interval': '60', 'X-GitHub-Media-Type': 'github.v3; format=json', 'Link': '<https://api.github.com/events?page=2>; rel=\"next\", <https://api.github.com/events?page=10>; rel=\"last\"', 'x-github-api-version-selected': '2022-11-28', 'Access-Control-Expose-Headers': 'ETag, Link, Location, Retry-After, X-GitHub-OTP, X-RateLimit-Limit, X-RateLimit-Remaining, X-RateLimit-Used, X-RateLimit-Resource, X-RateLimit-Reset, X-OAuth-Scopes, X-Accepted-OAuth-Scopes, X-Poll-Interval, X-GitHub-Media-Type, X-GitHub-SSO, X-GitHub-Request-Id, Deprecation, Sunset', 'Access-Control-Allow-Origin': '*', 'Strict-Transport-Security': 'max-age=31536000; includeSubdomains; preload', 'X-Frame-Options': 'deny', 'X-Content-Type-Options': 'nosniff', 'X-XSS-Protection': '0', 'Referrer-Policy': 'origin-when-cross-origin, strict-origin-when-cross-origin', 'Content-Security-Policy': \"default-src 'none'\", 'Content-Encoding': 'gzip', 'Server': 'github.com', 'Accept-Ranges': 'bytes', 'X-RateLimit-Limit': '60', 'X-RateLimit-Remaining': '39', 'X-RateLimit-Reset': '1736396610', 'X-RateLimit-Resource': 'core', 'X-RateLimit-Used': '21', 'Transfer-Encoding': 'chunked', 'X-GitHub-Request-Id': '5284:1998AD:45DA7F:524A24:677F4C33'}\n",
      "Content Type is :  application/json; charset=utf-8\n"
     ]
    }
   ],
   "source": [
    "# status code headers \n",
    "import requests\n",
    "\n",
    "response = requests.get('https://api.github.com/events') # cleint request link \n",
    "print(response)# request \n",
    "print(response.status_code)# status code of the response\n",
    "if response.status_code == 200:\n",
    "    print('Successfully fetch the code!')\n",
    "    print(\"Response's Header : \",response.headers)\n",
    "    content_type = response.headers['Content-type']# get content of the header \n",
    "    print('Content Type is : ',content_type)\n",
    "else:\n",
    "    print('some error happend while fatching tha page')"
   ]
  }
 ],
 "metadata": {
  "kernelspec": {
   "display_name": "Python 3",
   "language": "python",
   "name": "python3"
  },
  "language_info": {
   "codemirror_mode": {
    "name": "ipython",
    "version": 3
   },
   "file_extension": ".py",
   "mimetype": "text/x-python",
   "name": "python",
   "nbconvert_exporter": "python",
   "pygments_lexer": "ipython3",
   "version": "3.13.0"
  }
 },
 "nbformat": 4,
 "nbformat_minor": 2
}
