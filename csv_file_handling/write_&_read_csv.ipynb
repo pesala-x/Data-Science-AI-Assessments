{
 "cells": [
  {
   "cell_type": "code",
   "execution_count": 3,
   "metadata": {},
   "outputs": [
    {
     "name": "stdout",
     "output_type": "stream",
     "text": [
      "Data written successfully to my_csv.csv\n"
     ]
    }
   ],
   "source": [
    "# -------------------Write Data with csv file----------------------------------\n",
    "import csv\n",
    "\n",
    "FILE_PATH = \"my_csv.csv\"\n",
    "\n",
    "data = [\n",
    "    {\"Name\": \"Jhon Doe\", \"Age\": 30, \"City\": \"New York\"},\n",
    "    {\"Name\": \"Jane Smith\", \"Age\": 25, \"City\": \"Los Angeles\"},\n",
    "    {\"Name\": \"Bob Johnson\", \"Age\": 35, \"City\": \"Chicago\"}\n",
    "]\n",
    "\n",
    "field_names = [\"Name\", \"Age\", \"City\"]\n",
    "\n",
    "# Write data to the CSV file\n",
    "with open(FILE_PATH, mode='w', newline='') as csv_file:\n",
    "    writer = csv.DictWriter(csv_file, fieldnames=field_names)\n",
    "    writer.writeheader()  # Write the header row\n",
    "    writer.writerows(data)  # Write the data rows\n",
    "\n",
    "print(f\"Data written successfully to {FILE_PATH}\")\n"
   ]
  },
  {
   "cell_type": "code",
   "execution_count": 8,
   "metadata": {},
   "outputs": [
    {
     "name": "stdout",
     "output_type": "stream",
     "text": [
      "my_csv.csv\n",
      "{'Name': 'Jhon Doe', 'Age': '30', 'City': 'New York'}\n",
      "{'Name': 'Jane Smith', 'Age': '25', 'City': 'Los Angeles'}\n",
      "{'Name': 'Bob Johnson', 'Age': '35', 'City': 'Chicago'}\n"
     ]
    }
   ],
   "source": [
    "# -------------------Write Data with csv file----------------------------------\n",
    "import csv\n",
    "\n",
    "FILE_PATH = \"my_csv.csv\"\n",
    "\n",
    "data = [\n",
    "    {\"Name\": \"Jhon Doe\", \"Age\": 30, \"City\": \"New York\"},\n",
    "    {\"Name\": \"Jane Smith\", \"Age\": 25, \"City\": \"Los Angeles\"},\n",
    "    {\"Name\": \"Bob Johnson\", \"Age\": 35, \"City\": \"Chicago\"}\n",
    "]\n",
    "\n",
    "field_names = [\"Name\", \"Age\", \"City\"]\n",
    "\n",
    "print(f\"{FILE_PATH}\")\n",
    "# Read data from the CSV file\n",
    "with open(FILE_PATH, mode='r') as csv_file:\n",
    "    reader = csv.DictReader(csv_file)\n",
    "    for row in reader:\n",
    "        print(row)\n"
   ]
  }
 ],
 "metadata": {
  "kernelspec": {
   "display_name": "Python 3",
   "language": "python",
   "name": "python3"
  },
  "language_info": {
   "codemirror_mode": {
    "name": "ipython",
    "version": 3
   },
   "file_extension": ".py",
   "mimetype": "text/x-python",
   "name": "python",
   "nbconvert_exporter": "python",
   "pygments_lexer": "ipython3",
   "version": "3.13.0"
  }
 },
 "nbformat": 4,
 "nbformat_minor": 2
}
