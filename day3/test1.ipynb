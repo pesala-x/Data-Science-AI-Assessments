{
 "cells": [
  {
   "cell_type": "code",
   "execution_count": null,
   "metadata": {},
   "outputs": [
    {
     "name": "stdout",
     "output_type": "stream",
     "text": [
      " hello world \n",
      "hello world\n"
     ]
    }
   ],
   "source": [
    "#how to remove un nececory white spaces \n",
    "my_str = \" hello world \"\n",
    "\n",
    "print(my_str)\n",
    "print(my_str.strip());\n",
    "\n",
    "\n"
   ]
  },
  {
   "cell_type": "code",
   "execution_count": null,
   "metadata": {},
   "outputs": [
    {
     "name": "stdout",
     "output_type": "stream",
     "text": [
      "HELLO WORLD\n",
      "hello world\n"
     ]
    }
   ],
   "source": [
    "my_str = \"hello world\"\n",
    "\n",
    "print(my_str.upper()) # all letters in string will be capitalize \n",
    "print(my_str.lower()) # all letters in string will be simplelize "
   ]
  },
  {
   "cell_type": "code",
   "execution_count": 19,
   "metadata": {},
   "outputs": [
    {
     "name": "stdout",
     "output_type": "stream",
     "text": [
      "11\n",
      "this is string list 4th index :  l\n",
      "this is list 2nd index to 8th index :  llo wo\n"
     ]
    }
   ],
   "source": [
    "my_str = \"hello world\" # this is srting character list any string identify as a list `[h,e,l,l,o, ,w,o,r,l,d,]``\n",
    "print(len(my_str)) \n",
    "print(\"this is string list 4th index : \",my_str[2])\n",
    "print(\"this is list 2nd index to 8th index : \",my_str[2:8])"
   ]
  },
  {
   "cell_type": "code",
   "execution_count": null,
   "metadata": {},
   "outputs": [
    {
     "name": "stdout",
     "output_type": "stream",
     "text": [
      "Hello bariyo,\n",
      "      how are you?,\n",
      "      i know you are happy today,\n",
      "      because you are the batch top in python today \n"
     ]
    }
   ],
   "source": [
    "''' ane me marici dann epa \n",
    "wtto mt kuppiyk dapn \n",
    "this is multi line commit '''\n",
    "print('''Hello bariyo,\n",
    "      how are you?,\n",
    "      i know you are happy today,\n",
    "      because you are the batch top in python today ''')"
   ]
  },
  {
   "cell_type": "code",
   "execution_count": 10,
   "metadata": {},
   "outputs": [
    {
     "name": "stdout",
     "output_type": "stream",
     "text": [
      "The total cost after discount and tax is : 31593.0\n"
     ]
    }
   ],
   "source": [
    "price = int(input(\"Enter the price of food: \"))\n",
    "qty = int(input(\"Enter the quantity of food: \"))\n",
    "discount = int(input(\"Discount (%): \"))\n",
    "tax = int(input(\"Tax (amount): \"))\n",
    "\n",
    "def calculate_cost(price, qty, discount, tax):\n",
    "    # Calculate the discount amount\n",
    "    discount_amount = (price * qty * discount) / 100\n",
    "    # Calculate the total cost\n",
    "    total = (price * qty) - discount_amount + tax\n",
    "    return total\n",
    "\n",
    "# Call the function\n",
    "total_cost = calculate_cost(price, qty, discount, tax)\n",
    "print(\"The total cost after discount and tax is :\", total_cost)\n"
   ]
  },
  {
   "cell_type": "code",
   "execution_count": 21,
   "metadata": {},
   "outputs": [
    {
     "name": "stdout",
     "output_type": "stream",
     "text": [
      "17\n"
     ]
    }
   ],
   "source": [
    "def add_numbers (a,b,c):#only alowes asign the default values in right side \n",
    "    return a+b+c\n",
    "\n",
    "result = add_numbers(a=5,c=2,b=10)#assigned default value. \n",
    "print(result)"
   ]
  },
  {
   "cell_type": "code",
   "execution_count": null,
   "metadata": {},
   "outputs": [
    {
     "name": "stdout",
     "output_type": "stream",
     "text": [
      "12\n",
      "17\n",
      "30\n"
     ]
    }
   ],
   "source": [
    "def add_numbers (a,b=5,c=2):#only alowes asign the default values in right side \n",
    "    return a+b+c\n",
    "\n",
    "result = add_numbers(5)#assigned default value. \n",
    "print(result)\n",
    "\n",
    "result1 = add_numbers(5,10)#assigned default value. \n",
    "print(result1)\n",
    "\n",
    "result2 = add_numbers(5,10,15)\n",
    "print(result2)\n"
   ]
  },
  {
   "cell_type": "code",
   "execution_count": 18,
   "metadata": {},
   "outputs": [
    {
     "name": "stdout",
     "output_type": "stream",
     "text": [
      "10\n",
      "15\n"
     ]
    }
   ],
   "source": [
    "def add_numbers (a,b=5):\n",
    "    return a+b\n",
    "\n",
    "result = add_numbers(5)#assigned default value. \n",
    "print(result)\n",
    "\n",
    "result1 = add_numbers(5,10)\n",
    "print(result1)\n"
   ]
  },
  {
   "cell_type": "code",
   "execution_count": 11,
   "metadata": {},
   "outputs": [
    {
     "data": {
      "text/plain": [
       "153.86"
      ]
     },
     "execution_count": 11,
     "metadata": {},
     "output_type": "execute_result"
    }
   ],
   "source": [
    "def wargapalaya(radious):\n",
    "    return 3.14 * (radious*radious)\n",
    "\n",
    "wargapalaya(7)\n"
   ]
  },
  {
   "cell_type": "code",
   "execution_count": 14,
   "metadata": {},
   "outputs": [
    {
     "name": "stdout",
     "output_type": "stream",
     "text": [
      "40\n"
     ]
    }
   ],
   "source": [
    "# volume of a rectangular prism\n",
    "def parimithiya(l,w,h):\n",
    "    return l*w*h\n",
    "\n",
    "result = parimithiya(2,10,2)\n",
    "print(result)"
   ]
  },
  {
   "cell_type": "code",
   "execution_count": null,
   "metadata": {},
   "outputs": [
    {
     "name": "stdout",
     "output_type": "stream",
     "text": [
      "Jonny\n",
      "22\n",
      "Galle\n"
     ]
    }
   ],
   "source": [
    "person = {\n",
    "    \"name\": \"Jonny\",\n",
    "    \"age\": 22,\n",
    "    \"address\": \"Galle\"\n",
    "}\n",
    "for value in person.values():  # Use items() method to get values\n",
    "    print(value)"
   ]
  },
  {
   "cell_type": "code",
   "execution_count": null,
   "metadata": {},
   "outputs": [
    {
     "name": "stdout",
     "output_type": "stream",
     "text": [
      "name\n",
      "age\n",
      "address\n"
     ]
    }
   ],
   "source": [
    "person = {\n",
    "    \"name\": \"Jonny\",\n",
    "    \"age\": 22,\n",
    "    \"address\": \"Galle\"\n",
    "}\n",
    "\n",
    "for key in person.keys():  # Use items() method to get keys\n",
    "    print(key)"
   ]
  },
  {
   "cell_type": "code",
   "execution_count": 2,
   "metadata": {},
   "outputs": [
    {
     "name": "stdout",
     "output_type": "stream",
     "text": [
      "name Jonny\n",
      "age 22\n",
      "address Galle\n"
     ]
    }
   ],
   "source": [
    "person = {\n",
    "    \"name\": \"Jonny\",\n",
    "    \"age\": 22,\n",
    "    \"address\": \"Galle\"\n",
    "}\n",
    "\n",
    "for key, value in person.items():  # Use items() method to get key-value pairs\n",
    "    print(key, value)"
   ]
  },
  {
   "cell_type": "code",
   "execution_count": null,
   "metadata": {},
   "outputs": [
    {
     "name": "stdout",
     "output_type": "stream",
     "text": [
      "100\n",
      "10000\n",
      "10000\n",
      "144\n"
     ]
    }
   ],
   "source": [
    "x = int(input(\"Enter a number: \"))\n",
    "while True :\n",
    "    x = int(input(\"Enter a number: \"))\n",
    "    if(x==0):\n",
    "        break;\n",
    "    else:\n",
    "        print(x*x)"
   ]
  },
  {
   "cell_type": "code",
   "execution_count": 1,
   "metadata": {},
   "outputs": [
    {
     "name": "stdout",
     "output_type": "stream",
     "text": [
      "8\n",
      "9\n",
      "3\n"
     ]
    }
   ],
   "source": [
    "my_list = [8,9,3,0,12,15]\n",
    "\n",
    "for item in my_list :\n",
    "    if(item==0):\n",
    "        break\n",
    "    else:\n",
    "        print(item)"
   ]
  },
  {
   "cell_type": "code",
   "execution_count": null,
   "metadata": {},
   "outputs": [
    {
     "name": "stdout",
     "output_type": "stream",
     "text": [
      "Squares of numbers from 1 to 10: [1, 4, 9]\n"
     ]
    }
   ],
   "source": [
    "# print only square numbers given range \n",
    "\n",
    "x = int(input(\"Enter a number: \"))\n",
    "\n",
    "squares = []\n",
    "i = 1\n",
    "\n",
    "while i <= x:\n",
    "    square = i * i  # Calculate square of the current number\n",
    "    if square <= x:  # Only append squares less than or equal to x\n",
    "        squares.append(square)\n",
    "    i += 1  # Increment the counter\n",
    "\n",
    "print(f\"Squares of numbers from 1 to {x}: {squares}\")"
   ]
  },
  {
   "cell_type": "code",
   "execution_count": null,
   "metadata": {},
   "outputs": [],
   "source": [
    "# print square numbers in given numbers.\n",
    "x = int(input(\"Enter a number: \"))\n",
    "\n",
    "squares = []\n",
    "i = 1  \n",
    "while i <= x:\n",
    "    squares.append(i*i)  # Calculate square and append to the list\n",
    "    i += 1  # Increment the counter\n",
    "\n",
    "print(f\"Squares of numbers from 1 to {x}: {squares}\")\n"
   ]
  },
  {
   "cell_type": "code",
   "execution_count": null,
   "metadata": {},
   "outputs": [
    {
     "name": "stdout",
     "output_type": "stream",
     "text": [
      "Positive square numbers: [64, 144, 25, 16]\n"
     ]
    }
   ],
   "source": [
    "numbers = [8, 12, -1, 5, 4, 0, -3]\n",
    "positive_squares = [num**2 for num in numbers if num > 0]  # Filter positive numbers and calculate squares\n",
    "\n",
    "print(f\"Positive square numbers: {positive_squares}\")                                                                                                             "
   ]
  },
  {
   "cell_type": "code",
   "execution_count": 10,
   "metadata": {},
   "outputs": [
    {
     "name": "stdout",
     "output_type": "stream",
     "text": [
      "[4, 144, 81, 64]\n"
     ]
    }
   ],
   "source": [
    "# List complehention\n",
    "numbers = [2, 12, 9, 8]\n",
    "squares = [num**2 for num in numbers]\n",
    "print(squares)"
   ]
  },
  {
   "cell_type": "code",
   "execution_count": 7,
   "metadata": {},
   "outputs": [
    {
     "name": "stdout",
     "output_type": "stream",
     "text": [
      "Squares of numbers from 1 to 10: [1, 4, 9, 16, 25, 36, 49, 64, 81, 100]\n"
     ]
    }
   ],
   "source": [
    "x = int(input(\"Enter a number: \"))\n",
    "\n",
    "squares = []  # Initialize an empty list to store the squares\n",
    "for i in range(1, x + 1):\n",
    "    squares.append(i**2)  # Calculate square and append to the list\n",
    "\n",
    "print(f\"Squares of numbers from 1 to {x}: {squares}\")\n",
    "\n"
   ]
  },
  {
   "cell_type": "code",
   "execution_count": null,
   "metadata": {},
   "outputs": [
    {
     "name": "stdout",
     "output_type": "stream",
     "text": [
      "[49, 25, 64, 16, 81, 144]\n"
     ]
    }
   ],
   "source": [
    "# read numbers list and insert srquare numbers in the sqr_numbers list and print it  \n",
    "numbers = [7, 5, 8, 4, 9, 12];\n",
    "sqr_numbers=[]\n",
    "\n",
    "for number in numbers:\n",
    "    sqr_numbers.append(number*number)\n",
    "print(sqr_numbers)\n",
    "\n"
   ]
  },
  {
   "cell_type": "code",
   "execution_count": null,
   "metadata": {},
   "outputs": [
    {
     "name": "stdout",
     "output_type": "stream",
     "text": [
      "apple \n",
      "\n",
      "banana \n",
      "\n",
      "orange \n",
      "\n"
     ]
    }
   ],
   "source": [
    "fruits = [\"apple\", \"banana\", \"orange\"];\n",
    "\n",
    "for fruit in fruits:\n",
    "    print(fruit,\"\\n\");\n"
   ]
  },
  {
   "cell_type": "code",
   "execution_count": 17,
   "metadata": {},
   "outputs": [
    {
     "name": "stdout",
     "output_type": "stream",
     "text": [
      "Has three elements.\n"
     ]
    }
   ],
   "source": [
    "number = [4,3,7]\n",
    "\n",
    "match number:\n",
    "    case [ ]:\n",
    "        print(\"Empty List.\")\n",
    "    case [x]:\n",
    "        print(\"Has single element.\")\n",
    "    case [x,y]:\n",
    "        print(\"Has two elements.\")\n",
    "    case [x,y,z]:\n",
    "        print(\"Has three elements.\")\n",
    "    case _:# Default \n",
    "        print(\"List hase more than 3 elements\")\n"
   ]
  },
  {
   "cell_type": "code",
   "execution_count": 7,
   "metadata": {},
   "outputs": [
    {
     "name": "stdout",
     "output_type": "stream",
     "text": [
      "84\n"
     ]
    }
   ],
   "source": [
    "number = [4,3,7]\n",
    "match number:\n",
    "    case [x,y]:\n",
    "        print(x*y)\n",
    "    case [x,y,z]:\n",
    "        print(x*y*z)\n",
    "    case _:# Default \n",
    "        print(\"Invalid list.\")\n"
   ]
  },
  {
   "cell_type": "code",
   "execution_count": 3,
   "metadata": {},
   "outputs": [
    {
     "name": "stdout",
     "output_type": "stream",
     "text": [
      "Invalid Response.\n"
     ]
    }
   ],
   "source": [
    "# Puthon Switch case.\n",
    "x = int(input(\"Input Response Code : \"))\n",
    "\n",
    "match x:\n",
    "    case 200:\n",
    "        print(\"OK.\")\n",
    "    case 201:\n",
    "        print(\"Created.\")\n",
    "    case 404:\n",
    "        print(\"404 Not Found.\")\n",
    "    case 500:\n",
    "        print(\"Internal Server Error.\")\n",
    "    case _:# Default \n",
    "        print(\"Invalid Response.\")\n"
   ]
  },
  {
   "cell_type": "code",
   "execution_count": null,
   "metadata": {},
   "outputs": [],
   "source": []
  }
 ],
 "metadata": {
  "kernelspec": {
   "display_name": "Python 3",
   "language": "python",
   "name": "python3"
  },
  "language_info": {
   "codemirror_mode": {
    "name": "ipython",
    "version": 3
   },
   "file_extension": ".py",
   "mimetype": "text/x-python",
   "name": "python",
   "nbconvert_exporter": "python",
   "pygments_lexer": "ipython3",
   "version": "3.13.0"
  }
 },
 "nbformat": 4,
 "nbformat_minor": 2
}
