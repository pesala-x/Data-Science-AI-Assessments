{
 "cells": [
  {
   "cell_type": "code",
   "execution_count": null,
   "metadata": {},
   "outputs": [],
   "source": [
    "import json  # Import the built-in JSON library to handle JSON data.\n",
    "\n",
    "# Define the path where the JSON file will be saved.\n",
    "json_file_path = \"my_json.json\"\n",
    "\n",
    "# Open the specified file in write mode ('w').\n",
    "# The 'with' statement ensures the file is properly closed after operations.\n",
    "with open(json_file_path, \"w\") as json_file:\n",
    "    \n",
    "    # Create a dictionary containing the data to be written to the JSON file.\n",
    "    data = {\n",
    "        \"name\": \"Jhon Smith\",  # Key-value pair for the person's name.\n",
    "        \"age\": 30,             # Key-value pair for the person's age.\n",
    "        \"city\": \"New York\"    # Key-value pair for the person's city.\n",
    "    }\n",
    "\n",
    "    # Convert the dictionary into a JSON string with proper indentation for readability.\n",
    "    json_data = json.dumps(data, indent=4)  # 'indent=4' adds 4 spaces for each level of nesting.\n",
    "\n",
    "    # Write the formatted JSON string into the file.\n",
    "    json_file.write(json_data)\n",
    "\n",
    "# Once the 'with' block ends, the file is automatically closed."
   ]
  }
 ],
 "metadata": {
  "kernelspec": {
   "display_name": "Python 3",
   "language": "python",
   "name": "python3"
  },
  "language_info": {
   "codemirror_mode": {
    "name": "ipython",
    "version": 3
   },
   "file_extension": ".py",
   "mimetype": "text/x-python",
   "name": "python",
   "nbconvert_exporter": "python",
   "pygments_lexer": "ipython3",
   "version": "3.13.0"
  }
 },
 "nbformat": 4,
 "nbformat_minor": 2
}
