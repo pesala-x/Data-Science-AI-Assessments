{
 "cells": [
  {
   "cell_type": "code",
   "execution_count": null,
   "metadata": {},
   "outputs": [
    {
     "name": "stdout",
     "output_type": "stream",
     "text": [
      "[8, 5, 2, 9, 11]\n"
     ]
    }
   ],
   "source": [
    "# make 1st list coppy to 2nd list.\n",
    "my_list1=[8,5,2,9,11]\n",
    "my_list2 = my_list1\n",
    "\n",
    "print(my_list2)# this is bigginer level copppy "
   ]
  },
  {
   "cell_type": "code",
   "execution_count": null,
   "metadata": {},
   "outputs": [
    {
     "name": "stdout",
     "output_type": "stream",
     "text": [
      "[8, 5, 2, 9, 11]\n"
     ]
    }
   ],
   "source": [
    "# make a coppy using .copy()\n",
    "my_list1=[8,5,2,9,11]\n",
    "my_list2=my_list1.copy();\n",
    "\n",
    "print(my_list2) # this is correct coppy method.\n",
    "\n"
   ]
  },
  {
   "cell_type": "code",
   "execution_count": null,
   "metadata": {},
   "outputs": [
    {
     "name": "stdout",
     "output_type": "stream",
     "text": [
      "('apple', 8, True, 'apple')\n",
      "4\n",
      "<class 'tuple'>\n"
     ]
    }
   ],
   "source": [
    "# Tupels in python \n",
    "my_tuple = (\"apple\", 8, True, \"apple\")\n",
    "\n",
    "print(my_tuple);# print tuple\n",
    "print(len(my_tuple));# length of tuple\n",
    "print(type(my_tuple));# type of tuple"
   ]
  },
  {
   "cell_type": "code",
   "execution_count": 10,
   "metadata": {},
   "outputs": [
    {
     "name": "stdout",
     "output_type": "stream",
     "text": [
      "8\n",
      "<class 'int'>\n",
      "we can handle this...>\n",
      "(8,)\n",
      "<class 'tuple'>\n"
     ]
    }
   ],
   "source": [
    "# this is a exeption, if we use single element in our tuple it gives datatype and it not be a tuple \n",
    "single=(8)\n",
    "print(single)\n",
    "print(type(single));# \n",
    "\n",
    "# we can handle this...\n",
    "print(\"we can handle this...>\")\n",
    "\n",
    "single=(8,)# if we use comma  to lasst element variable detects tuple datatype\n",
    "print(single)\n",
    "print(type(single));# \n",
    "\n"
   ]
  },
  {
   "cell_type": "code",
   "execution_count": 16,
   "metadata": {},
   "outputs": [
    {
     "name": "stdout",
     "output_type": "stream",
     "text": [
      "7\n",
      "10\n"
     ]
    }
   ],
   "source": [
    "second_tuple = (8, 10, 12, 7);\n",
    "\n",
    "print(second_tuple[-1])#tuple access value in using reverse indexing \n",
    "\n",
    "print(second_tuple[1])#tuple access value normal indexing."
   ]
  },
  {
   "cell_type": "code",
   "execution_count": 18,
   "metadata": {},
   "outputs": [
    {
     "name": "stdout",
     "output_type": "stream",
     "text": [
      "(10, 12)\n"
     ]
    }
   ],
   "source": [
    "second_tuple = (8, 10, 12, 7);\n",
    "\n",
    "print(second_tuple[1:3]) # access 1 to 3 indexes "
   ]
  },
  {
   "cell_type": "code",
   "execution_count": 23,
   "metadata": {},
   "outputs": [
    {
     "name": "stdout",
     "output_type": "stream",
     "text": [
      "[8, 10, 12, 7]\n",
      "<class 'list'> \n",
      "\n",
      "(8, 10, 5, 7)\n",
      "<class 'tuple'>\n"
     ]
    }
   ],
   "source": [
    "second_tuple = (8, 10, 12, 7);\n",
    "\n",
    "my_list = list(second_tuple); # convert Tuple to List.\n",
    "print(my_list); print(type(my_list),\"\\n\");\n",
    "\n",
    "my_list[2] = 5;\n",
    "\n",
    "second_tuple = tuple(my_list) # re convert List to Tuple.\n",
    "\n",
    "print(second_tuple)\n",
    "print(type(second_tuple));"
   ]
  },
  {
   "cell_type": "code",
   "execution_count": 35,
   "metadata": {},
   "outputs": [
    {
     "name": "stdout",
     "output_type": "stream",
     "text": [
      "((1, 2, 3), ('apple', 'banana', 'grapes'), (True, False)) \n",
      "\n",
      "get nested tuple's 2nd tuple's second element : banana\n",
      "get nested tuple's 3rd tuple's second element : False\n"
     ]
    }
   ],
   "source": [
    "nest_tuple = ((1,2,3), (\"apple\", \"banana\", \"grapes\"), (True, False));\n",
    "\n",
    "print(nest_tuple,\"\\n\");\n",
    "\n",
    "print(\"get nested tuple's 2nd tuple's second element :\",nest_tuple[1][1])\n",
    "print(\"get nested tuple's 3rd tuple's second element :\",nest_tuple[2][1])\n",
    "\n"
   ]
  },
  {
   "cell_type": "code",
   "execution_count": null,
   "metadata": {},
   "outputs": [],
   "source": []
  }
 ],
 "metadata": {
  "kernelspec": {
   "display_name": "Python 3",
   "language": "python",
   "name": "python3"
  },
  "language_info": {
   "codemirror_mode": {
    "name": "ipython",
    "version": 3
   },
   "file_extension": ".py",
   "mimetype": "text/x-python",
   "name": "python",
   "nbconvert_exporter": "python",
   "pygments_lexer": "ipython3",
   "version": "3.13.0"
  }
 },
 "nbformat": 4,
 "nbformat_minor": 2
}
