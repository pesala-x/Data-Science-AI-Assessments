{
 "cells": [
  {
   "cell_type": "code",
   "execution_count": null,
   "metadata": {},
   "outputs": [
    {
     "name": "stdout",
     "output_type": "stream",
     "text": [
      "[8, 5, 2, 9, 11]\n"
     ]
    }
   ],
   "source": [
    "# make 1st list coppy to 2nd list.\n",
    "my_list1=[8,5,2,9,11]\n",
    "my_list2 = my_list1\n",
    "\n",
    "print(my_list2)# this is bigginer level copppy "
   ]
  },
  {
   "cell_type": "code",
   "execution_count": null,
   "metadata": {},
   "outputs": [
    {
     "name": "stdout",
     "output_type": "stream",
     "text": [
      "[8, 5, 2, 9, 11]\n"
     ]
    }
   ],
   "source": [
    "# make a coppy using .copy()\n",
    "my_list1=[8,5,2,9,11]\n",
    "my_list2=my_list1.copy();\n",
    "\n",
    "print(my_list2) # this is correct coppy method.\n",
    "\n"
   ]
  },
  {
   "cell_type": "code",
   "execution_count": null,
   "metadata": {},
   "outputs": [
    {
     "name": "stdout",
     "output_type": "stream",
     "text": [
      "('apple', 8, True, 'apple')\n",
      "4\n",
      "<class 'tuple'>\n"
     ]
    }
   ],
   "source": [
    "# Tupels in python \n",
    "my_tuple = (\"apple\", 8, True, \"apple\")\n",
    "\n",
    "print(my_tuple);# print tuple\n",
    "print(len(my_tuple));# length of tuple\n",
    "print(type(my_tuple));# type of tuple"
   ]
  },
  {
   "cell_type": "code",
   "execution_count": 10,
   "metadata": {},
   "outputs": [
    {
     "name": "stdout",
     "output_type": "stream",
     "text": [
      "8\n",
      "<class 'int'>\n",
      "we can handle this...>\n",
      "(8,)\n",
      "<class 'tuple'>\n"
     ]
    }
   ],
   "source": [
    "# this is a exeption, if we use single element in our tuple it gives datatype and it not be a tuple \n",
    "single=(8)\n",
    "print(single)\n",
    "print(type(single));# \n",
    "\n",
    "# we can handle this...\n",
    "print(\"we can handle this...>\")\n",
    "\n",
    "single=(8,)# if we use comma  to lasst element variable detects tuple datatype\n",
    "print(single)\n",
    "print(type(single));# \n",
    "\n"
   ]
  },
  {
   "cell_type": "code",
   "execution_count": 16,
   "metadata": {},
   "outputs": [
    {
     "name": "stdout",
     "output_type": "stream",
     "text": [
      "7\n",
      "10\n"
     ]
    }
   ],
   "source": [
    "second_tuple = (8, 10, 12, 7);\n",
    "\n",
    "print(second_tuple[-1])#tuple access value in using reverse indexing \n",
    "\n",
    "print(second_tuple[1])#tuple access value normal indexing."
   ]
  },
  {
   "cell_type": "code",
   "execution_count": 18,
   "metadata": {},
   "outputs": [
    {
     "name": "stdout",
     "output_type": "stream",
     "text": [
      "(10, 12)\n"
     ]
    }
   ],
   "source": [
    "second_tuple = (8, 10, 12, 7);\n",
    "\n",
    "print(second_tuple[1:3]) # access 1 to 3 indexes "
   ]
  },
  {
   "cell_type": "code",
   "execution_count": 23,
   "metadata": {},
   "outputs": [
    {
     "name": "stdout",
     "output_type": "stream",
     "text": [
      "[8, 10, 12, 7]\n",
      "<class 'list'> \n",
      "\n",
      "(8, 10, 5, 7)\n",
      "<class 'tuple'>\n"
     ]
    }
   ],
   "source": [
    "second_tuple = (8, 10, 12, 7);\n",
    "\n",
    "my_list = list(second_tuple); # convert Tuple to List.\n",
    "print(my_list); print(type(my_list),\"\\n\");\n",
    "\n",
    "my_list[2] = 5;\n",
    "\n",
    "second_tuple = tuple(my_list) # re convert List to Tuple.\n",
    "\n",
    "print(second_tuple)\n",
    "print(type(second_tuple));"
   ]
  },
  {
   "cell_type": "code",
   "execution_count": 35,
   "metadata": {},
   "outputs": [
    {
     "name": "stdout",
     "output_type": "stream",
     "text": [
      "((1, 2, 3), ('apple', 'banana', 'grapes'), (True, False)) \n",
      "\n",
      "get nested tuple's 2nd tuple's second element : banana\n",
      "get nested tuple's 3rd tuple's second element : False\n"
     ]
    }
   ],
   "source": [
    "nest_tuple = ((1,2,3), (\"apple\", \"banana\", \"grapes\"), (True, False));\n",
    "\n",
    "print(nest_tuple,\"\\n\");\n",
    "\n",
    "print(\"get nested tuple's 2nd tuple's second element :\",nest_tuple[1][1])\n",
    "print(\"get nested tuple's 3rd tuple's second element :\",nest_tuple[2][1])\n",
    "\n"
   ]
  },
  {
   "cell_type": "code",
   "execution_count": 52,
   "metadata": {},
   "outputs": [
    {
     "name": "stdout",
     "output_type": "stream",
     "text": [
      "type of the range :  <class 'range'> \n",
      "\n",
      "this is length of the range :  5\n",
      "access range's 2nd value :  3\n",
      "if you print range you must convert it in to list :  [1, 3, 5, 7, 9]\n"
     ]
    }
   ],
   "source": [
    "range1 = range(1,11,2);\n",
    "print(\"type of the range : \",type(range1),\"\\n\");\n",
    "print(\"this is length of the range : \",len(range1))\n",
    "print(\"access range's 2nd value : \",range1[1])\n",
    "print(\"if you print range you must convert it in to list : \",list(range1))\n"
   ]
  },
  {
   "cell_type": "code",
   "execution_count": null,
   "metadata": {},
   "outputs": [
    {
     "name": "stdout",
     "output_type": "stream",
     "text": [
      "this is Dictionary :  {'name': 'suger', 'price': 250.2, 'weight': '1kg'}\n",
      "access values using key values :  suger\n",
      "<class 'dict'>\n",
      "update dictionary  {'name': 'suger', 'price': 300, 'weight': '1kg'} \n",
      "\n"
     ]
    }
   ],
   "source": [
    "mey_dickt ={\n",
    "    \"name\" : \"suger\",\n",
    "    \"price\": 250.20,\n",
    "    \"weight\":\"1kg\",\n",
    "}\n",
    "\n",
    "print(\"this is Dictionary : \",mey_dickt)\n",
    "print(\"access values using key values : \",mey_dickt[\"name\"])\n",
    "print(type(mey_dickt));\n",
    "\n",
    "#update \n",
    "mey_dick[\"price\"] = 300;\n",
    "\n",
    "print(\"update dictionary \",mey_dickt,\"\\n\");"
   ]
  },
  {
   "cell_type": "code",
   "execution_count": null,
   "metadata": {},
   "outputs": [
    {
     "name": "stdout",
     "output_type": "stream",
     "text": [
      "access values using get command :  250.2\n"
     ]
    }
   ],
   "source": [
    "# access key values using get method.\n",
    "mey_dickt ={\n",
    "    \"name\" : \"suger\",\n",
    "    \"price\": 250.20,\n",
    "    \"weight\":\"1kg\",\n",
    "}\n",
    "\n",
    "print(\"access values using get command : \",mey_dickt.get(\"price\"))"
   ]
  },
  {
   "cell_type": "code",
   "execution_count": null,
   "metadata": {},
   "outputs": [
    {
     "name": "stdout",
     "output_type": "stream",
     "text": [
      "access values using get command :  2027-10-4\n"
     ]
    }
   ],
   "source": [
    "# access key values using get method. with passing default value.\n",
    "\n",
    "mey_dickt ={\n",
    "    \"name\" : \"suger\",\n",
    "    \"price\": 250.20,\n",
    "    \"weight\":\"1kg\",\n",
    "}\n",
    "\n",
    "print(\"access values using get command : \",mey_dickt.get(\"exp_date\",\"2027-10-4\")) # assign default value if it hasen't  asssigned value\n",
    "# print(mey_dickt.get(exp_date))\n"
   ]
  },
  {
   "cell_type": "code",
   "execution_count": 10,
   "metadata": {},
   "outputs": [
    {
     "name": "stdout",
     "output_type": "stream",
     "text": [
      "updated values using update command :  {'name': 'Karawala', 'price': 470, 'weight': '1kg'}\n",
      "updated values using update command :  {'name': 'Karawala', 'price': 470, 'weight': '1kg', 'colors': 'White'}\n"
     ]
    }
   ],
   "source": [
    "# update key values \n",
    "mey_dickt ={\n",
    "    \"name\" : \"suger\",\n",
    "    \"price\": 250.20,\n",
    "    \"weight\":\"1kg\",\n",
    "}\n",
    "\n",
    "mey_dickt.update({\"price\": 470, \"name\": \"Karawala\"}) # update values using update values.\n",
    "print(\"updated values using update command : \",mey_dickt)\n",
    "\n",
    "mey_dickt[\"colors\"] =\"White\" # update values with new key values\n",
    "print(\"updated values using update command : \",mey_dickt)\n"
   ]
  },
  {
   "cell_type": "code",
   "execution_count": null,
   "metadata": {},
   "outputs": [
    {
     "name": "stdout",
     "output_type": "stream",
     "text": [
      "{'price': 250.2, 'weight': '1kg'}\n",
      "{'weight': '1kg'}\n",
      "{}\n",
      "dectionary length after clear command :  0\n"
     ]
    }
   ],
   "source": [
    "# delete key values \n",
    "mey_dickt ={\n",
    "    \"name\" : \"suger\",\n",
    "    \"price\": 250.20,\n",
    "    \"weight\":\"1kg\",\n",
    "}\n",
    "\n",
    "mey_dickt.pop(\"name\")# use pop command to remove key values with there assigned values \n",
    "print(mey_dickt)\n",
    "\n",
    "#     or  \n",
    "\n",
    "del mey_dickt[\"price\"]\n",
    "print(mey_dickt)\n",
    "\n",
    "# fully destroy dectionary\n",
    "del mey_dickt\n",
    "print(mey_dickt)\n",
    "\n",
    "# clear all dectionary \n",
    "mey_dickt.clear()\n",
    "print(mey_dickt)\n",
    "print(\"dectionary length after clear command : \",len(mey_dickt))\n",
    "\n"
   ]
  },
  {
   "cell_type": "code",
   "execution_count": null,
   "metadata": {},
   "outputs": [
    {
     "name": "stdout",
     "output_type": "stream",
     "text": [
      "{'name': 'suger', 'price': 250.2, 'weight': '1kg'}\n",
      "{'name': 'suger', 'price': 250.2, 'weight': '1kg'}\n",
      "{'price': 250.2, 'weight': '1kg'}\n"
     ]
    }
   ],
   "source": [
    "#coppy command\n",
    "mey_dickt ={\n",
    "    \"name\" : \"suger\",\n",
    "    \"price\": 250.20,\n",
    "    \"weight\":\"1kg\",\n",
    "}\n",
    "\n",
    "mey_dickt2 = mey_dickt.copy() # if coppy dictionary it will be assigned new variable.\n",
    "print(mey_dickt2)\n",
    "\n",
    "del mey_dickt[\"name\"]\n",
    "print(mey_dickt2)\n",
    "print(mey_dickt)\n"
   ]
  }
 ],
 "metadata": {
  "kernelspec": {
   "display_name": "Python 3",
   "language": "python",
   "name": "python3"
  },
  "language_info": {
   "codemirror_mode": {
    "name": "ipython",
    "version": 3
   },
   "file_extension": ".py",
   "mimetype": "text/x-python",
   "name": "python",
   "nbconvert_exporter": "python",
   "pygments_lexer": "ipython3",
   "version": "3.13.0"
  }
 },
 "nbformat": 4,
 "nbformat_minor": 2
}
