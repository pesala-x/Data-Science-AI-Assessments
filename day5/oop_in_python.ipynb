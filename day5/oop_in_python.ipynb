{
 "cells": [
  {
   "cell_type": "code",
   "execution_count": 1,
   "metadata": {},
   "outputs": [
    {
     "name": "stdout",
     "output_type": "stream",
     "text": [
      "Vehicle\n",
      "This is a Car\n",
      "None\n",
      "Vehicle\n"
     ]
    }
   ],
   "source": [
    "#Basic python class\n",
    "class Car:\n",
    "    category = 'Vehicle'\n",
    "\n",
    "    def display(self):\n",
    "        print('This is a Car')\n",
    "\n",
    "new_car = Car() #Creating an object of Car class\n",
    "print(new_car.category) #Accessing class variable\n",
    "print(new_car.display()) #Accessing class method\n",
    "print(Car.category)"
   ]
  },
  {
   "cell_type": "code",
   "execution_count": 2,
   "metadata": {},
   "outputs": [
    {
     "name": "stdout",
     "output_type": "stream",
     "text": [
      "Audi\n"
     ]
    }
   ],
   "source": [
    "#Python class with constructor\n",
    "class Car:\n",
    "    category = 'Vehicle'\n",
    "\n",
    "    def __init__(self, name):\n",
    "        self.name = name\n",
    "\n",
    "new_car = Car('Audi')\n",
    "print(new_car.name)"
   ]
  },
  {
   "cell_type": "code",
   "execution_count": 3,
   "metadata": {},
   "outputs": [
    {
     "name": "stdout",
     "output_type": "stream",
     "text": [
      "Audi\n",
      "BMW\n"
     ]
    }
   ],
   "source": [
    "#Exercise-1\n",
    "class Car:\n",
    "    category = 'Vehicle'\n",
    "\n",
    "    def __init__(self, name):\n",
    "        self.name = name\n",
    "\n",
    "    def display(self):\n",
    "        print(self.name)\n",
    "    \n",
    "    def update(self, name):\n",
    "        self.name = name\n",
    "\n",
    "new_car = Car('Audi')\n",
    "print(new_car.name)\n",
    "new_car.update('BMW')\n",
    "print(new_car.name)"
   ]
  },
  {
   "cell_type": "code",
   "execution_count": 17,
   "metadata": {},
   "outputs": [
    {
     "name": "stdout",
     "output_type": "stream",
     "text": [
      "Sam\n",
      "1000\n",
      "Amount deposited: 500\n",
      "Current balance: 1500\n",
      "Amount withdrawn: 200\n",
      "Current balance: 1300\n"
     ]
    }
   ],
   "source": [
    "#Write a python program to define & use a class representing a bank account\n",
    "#1.Create a class name BankAccount with the following \n",
    "#An attributes: account_holder to hold the name of the account holder\n",
    "#An attributes: balance to store the account balance initialize to 0\n",
    "#2.Add the following methods to the class\n",
    "#deposit(amount) to add the amount to the balance\n",
    "#withdraw(amount) to subtract the amount from the balance if sufficient funds exists\n",
    "#display_balance() to display the current balance\n",
    "#3.Write a small script to demonstrate the following\n",
    "#Create an object of the class BankAccount\n",
    "#Perform a few deposits and withdrawals\n",
    "#Display the balance after each operation\n",
    "\n",
    "class BankAccount:\n",
    "    account_holder = ''\n",
    "    balance = 0\n",
    "\n",
    "    def __init__(self, account_holder, balance):\n",
    "        self.account_holder = account_holder\n",
    "        self.balance = balance\n",
    "    \n",
    "    def deposit(self, amount):\n",
    "        if amount <= 0:\n",
    "            print('Invalid deposit amount')\n",
    "            return\n",
    "        self.balance += amount\n",
    "        print('Amount deposited:', amount)\n",
    "\n",
    "    def withdraw(self, amount):\n",
    "        if amount <= 0:\n",
    "            print('Invalid withdraw amount')\n",
    "            return\n",
    "        if self.balance >= amount:\n",
    "            self.balance -= amount\n",
    "            print('Amount withdrawn:', amount)\n",
    "        else:\n",
    "            print('Insufficient balance')\n",
    "\n",
    "    def display_balance(self):\n",
    "        print('Current balance:', self.balance)\n",
    "\n",
    "new_account = BankAccount('Sam', 1000)\n",
    "print(new_account.account_holder)\n",
    "print(new_account.balance)\n",
    "new_account.deposit(500)\n",
    "new_account.display_balance()\n",
    "new_account.withdraw(200)\n",
    "new_account.display_balance()\n"
   ]
  },
  {
   "cell_type": "code",
   "execution_count": 21,
   "metadata": {},
   "outputs": [
    {
     "name": "stdout",
     "output_type": "stream",
     "text": [
      "Dog barks\n"
     ]
    }
   ],
   "source": [
    "#Inheritance\n",
    "class Animal:\n",
    "    def __init__(self, name):\n",
    "        self.name = name\n",
    "\n",
    "    def speak(self):\n",
    "        pass\n",
    "\n",
    "class Dog(Animal):\n",
    "    def speak(self):\n",
    "        print('Dog barks')\n",
    "\n",
    "dog_obj = Dog('Tommy')\n",
    "dog_obj.speak()"
   ]
  },
  {
   "cell_type": "code",
   "execution_count": 22,
   "metadata": {},
   "outputs": [
    {
     "name": "stdout",
     "output_type": "stream",
     "text": [
      "Tommy\n",
      "Brown\n"
     ]
    }
   ],
   "source": [
    "#Inheritance with constructor\n",
    "class Animal:\n",
    "    def __init__(self, name):\n",
    "        self.name = name\n",
    "\n",
    "class Dog(Animal):\n",
    "    def __init__(self, name, color):\n",
    "        super().__init__(name) #Calling parent class constructor \n",
    "        self.color = color\n",
    "\n",
    "dog_obj = Dog('Tommy', 'Brown')\n",
    "print(dog_obj.name)\n",
    "print(dog_obj.color)"
   ]
  },
  {
   "cell_type": "code",
   "execution_count": 27,
   "metadata": {},
   "outputs": [
    {
     "name": "stdout",
     "output_type": "stream",
     "text": [
      "Title: Python Programming\n",
      "Author: John\n",
      "Publication Year: 2020\n",
      "Genre: Programming\n",
      "ISBN: 123456\n",
      "\n",
      "\n",
      "Title: Python Magazine\n",
      "Author: Sara\n",
      "Publication Year: 2018\n",
      "Issue: Jan\n"
     ]
    }
   ],
   "source": [
    "#Task is creating a basic library management system using inheritance\n",
    "#implement following classes\n",
    "#1.Base class: LibraryItems\n",
    "#Attributes: title(string), author(string), publication_year(int)\n",
    "#Methods: display_info() to display the information of the item \n",
    "#2.Child class: Book\n",
    "#Inherits from LibraryItems\n",
    "#Additional attributes: genre(string), isbn(string)\n",
    "#Overridden method: display_info() to display the information of the book & genre, isbn\n",
    "#3.Magazine\n",
    "#Inherits from LibraryItems\n",
    "#Additional attributes: issue(string)\n",
    "#Overridden method: display_info() to display the information of the magazine & issue\n",
    "#4.Create instance of each class and demonstrate for their attributes and methods\n",
    "#5.Call the display_info() method for inheritance & override methods\n",
    "\n",
    "class LibraryItems:\n",
    "    def __init__(self, title, author, publication_year):\n",
    "        self.title = title\n",
    "        self.author = author\n",
    "        self.publication_year = publication_year\n",
    "\n",
    "    def display_info(self):\n",
    "        print('Title:', self.title)\n",
    "        print('Author:', self.author)\n",
    "        print('Publication Year:', self.publication_year)\n",
    "\n",
    "class Book(LibraryItems):\n",
    "    def __init__(self, title, author, publication_year, genre, isbn):\n",
    "        super().__init__(title, author, publication_year)\n",
    "        self.genre = genre\n",
    "        self.isbn = isbn\n",
    "\n",
    "    def display_info(self):\n",
    "        super().display_info()\n",
    "        print('Genre:', self.genre)\n",
    "        print('ISBN:', self.isbn)\n",
    "\n",
    "class Magazine(LibraryItems):\n",
    "    def __init__(self, title, author, publication_year, issue):\n",
    "        super().__init__(title, author, publication_year)\n",
    "        self.issue = issue\n",
    "\n",
    "    def display_info(self):\n",
    "        super().display_info()\n",
    "        print('Issue:', self.issue)\n",
    "\n",
    "book_obj = Book('Python Programming', 'John', 2020, 'Programming', '123456')\n",
    "book_obj.display_info()\n",
    "print(\"\\n\")\n",
    "magazine_obj = Magazine('Python Magazine', 'Sara', 2018, 'Jan')\n",
    "magazine_obj.display_info()"
   ]
  },
  {
   "cell_type": "code",
   "execution_count": 29,
   "metadata": {},
   "outputs": [
    {
     "name": "stdout",
     "output_type": "stream",
     "text": [
      "Dog barks\n",
      "Cat meows\n"
     ]
    }
   ],
   "source": [
    "#Polymorphism\n",
    "class Animal:\n",
    "    def __init__(self, name):\n",
    "        self.name = name\n",
    "\n",
    "    def speak(self):\n",
    "        pass\n",
    "\n",
    "class Dog(Animal):\n",
    "    def speak(self):\n",
    "        print('Dog barks')\n",
    "\n",
    "class Cat(Animal):\n",
    "    def speak(self):\n",
    "        print('Cat meows')\n",
    "\n",
    "def animal_speak(animal):\n",
    "    animal.speak()\n",
    "\n",
    "dog_obj = Dog('Tommy')\n",
    "cat_obj = Cat('Kitty')\n",
    "animal_speak(dog_obj)\n",
    "animal_speak(cat_obj)"
   ]
  },
  {
   "cell_type": "code",
   "execution_count": 34,
   "metadata": {},
   "outputs": [
    {
     "name": "stdout",
     "output_type": "stream",
     "text": [
      "Public\n",
      "Protected\n",
      "\n",
      "\n",
      "Public Method\n",
      "Protected Method\n"
     ]
    }
   ],
   "source": [
    "#Encapsulation\n",
    "class MyClass:\n",
    "    def __init__(self):\n",
    "        self.var_1 = \"Public\"\n",
    "        self._var_2 = \"Protected\"\n",
    "        self.__var_3 = \"Private\"\n",
    "\n",
    "    def public_method(self):\n",
    "        print(\"Public Method\")\n",
    "\n",
    "    def _protected_method(self):\n",
    "        print(\"Protected Method\")\n",
    "    \n",
    "    def __private_method(self):\n",
    "        print(\"Private Method\")\n",
    "\n",
    "my_obj = MyClass()\n",
    "print(my_obj.var_1)\n",
    "print(my_obj._var_2)\n",
    "#print(my_obj.__var_3) #Private variable can't be accessed directly\n",
    "print(\"\\n\")\n",
    "\n",
    "my_obj.public_method()\n",
    "my_obj._protected_method()\n",
    "#my_obj.__private_method() #Private method can't be accessed directly"
   ]
  },
  {
   "cell_type": "code",
   "execution_count": 38,
   "metadata": {},
   "outputs": [
    {
     "name": "stdout",
     "output_type": "stream",
     "text": [
      "10\n"
     ]
    }
   ],
   "source": [
    "#Accessing private variable using getter & setter\n",
    "class MyClass:\n",
    "    def __init__(self):\n",
    "        self.__val = 0\n",
    "\n",
    "    def set_val(self, val):\n",
    "        self.__val = val\n",
    "\n",
    "    def get_val(self):\n",
    "        print(self.__val)\n",
    "    \n",
    "my_obj = MyClass()\n",
    "my_obj.set_val(10)\n",
    "my_obj.get_val()"
   ]
  },
  {
   "cell_type": "code",
   "execution_count": 3,
   "metadata": {},
   "outputs": [
    {
     "name": "stdout",
     "output_type": "stream",
     "text": [
      "Checking values\n"
     ]
    }
   ],
   "source": [
    "#Exercise-3\n",
    "class MyClass:\n",
    "    def __init__(self):\n",
    "        self.__data = \"Some data\"\n",
    "\n",
    "    def __check_my_values(self):\n",
    "        print(\"Checking values\")\n",
    "\n",
    "    def get_my_values(self):\n",
    "        return self.__check_my_values()\n",
    "    \n",
    "my_obj = MyClass()\n",
    "my_obj.get_my_values()"
   ]
  },
  {
   "cell_type": "code",
   "execution_count": null,
   "metadata": {},
   "outputs": [],
   "source": [
    "#Protected variable best practice\n",
    "class Animal:\n",
    "    def __init__(self, name):\n",
    "        self.data = \"Some data\"\n",
    "    \n",
    "    def _make_sound(self):\n",
    "        print(\"Making sound\")\n",
    "\n",
    "class Dog(Animal):\n",
    "    def bark(self):\n",
    "        self._make_sound()\n",
    "        print(\"Dog barks\")"
   ]
  },
  {
   "cell_type": "markdown",
   "metadata": {},
   "source": []
  },
  {
   "cell_type": "code",
   "execution_count": 1,
   "metadata": {},
   "outputs": [
    {
     "name": "stdout",
     "output_type": "stream",
     "text": [
      "The roots are real and distinct: 3.0 and 2.0\n"
     ]
    }
   ],
   "source": [
    "#Exercise-4\n",
    "#Write a python program to create quadraticEquation of the form (ax * ax) + bx + c = 0\n",
    "#The class should have\n",
    "#1.Attributes - private(__a, __b, __c) to store the cor\n",
    "#2.Methods - a constructor to initialize the a,b,c\n",
    "#3.A private method __discriminant() that calculate & return the discriminant(D = b*b -4ac)\n",
    "#4.A public method find_roots() that, use the private __discriminant() method, return the roots of quadraticEquation,\n",
    "#D > 0 ; to distinct real root\n",
    "#D = 0 ; \n",
    "#D < 0 ; to complex root\n",
    "\n",
    "class QuadraticEquation:\n",
    "    def __init__(self, a, b, c):\n",
    "        self.__a = a\n",
    "        self.__b = b\n",
    "        self.__c = c\n",
    "\n",
    "    def __discriminant(self):\n",
    "        return self.__b * self.__b - 4 * self.__a * self.__c\n",
    "    \n",
    "    def find_roots(self):\n",
    "        D = self.__discriminant()\n",
    "        if D > 0:\n",
    "            root_1 = (-self.__b + D ** 0.5) / (2 * self.__a)\n",
    "            root_2 = (-self.__b - D ** 0.5) / (2 * self.__a)\n",
    "            return f\"The roots are real and distinct: {root_1} and {root_2}\"\n",
    "        elif D == 0:\n",
    "            root = -self.__b / (2 * self.__a)\n",
    "            return f\"The root is real and repeated: {root}\"\n",
    "        else:\n",
    "            real_part = -self.__b / (2 * self.__a)\n",
    "            imaginary_part = (abs(D) ** 0.5) / (2 * self.__a)\n",
    "            return f\"The roots are complex: {real_part} ± {imaginary_part}i\"\n",
    "\n",
    "equation_1 = QuadraticEquation(1, -5, 6)\n",
    "print(equation_1.find_roots())\n"
   ]
  }
 ],
 "metadata": {
  "kernelspec": {
   "display_name": "Python 3",
   "language": "python",
   "name": "python3"
  },
  "language_info": {
   "codemirror_mode": {
    "name": "ipython",
    "version": 3
   },
   "file_extension": ".py",
   "mimetype": "text/x-python",
   "name": "python",
   "nbconvert_exporter": "python",
   "pygments_lexer": "ipython3",
   "version": "3.13.0"
  }
 },
 "nbformat": 4,
 "nbformat_minor": 2
}
